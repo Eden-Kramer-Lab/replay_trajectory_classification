{
 "cells": [
  {
   "cell_type": "code",
   "execution_count": 1,
   "metadata": {},
   "outputs": [],
   "source": [
    "%reload_ext autoreload\n",
    "%autoreload 2\n",
    "\n",
    "import logging\n",
    "import numpy as np\n",
    "\n",
    "# Make analysis reproducible\n",
    "np.random.seed(0)\n",
    "\n",
    "# Enable logging\n",
    "logging.basicConfig(level=logging.INFO)"
   ]
  },
  {
   "cell_type": "code",
   "execution_count": 2,
   "metadata": {},
   "outputs": [
    {
     "name": "stderr",
     "output_type": "stream",
     "text": [
      "WARNING:replay_trajectory_classification.core:Cupy is not installed or GPU is not detected. Ignore this message if not using GPU\n"
     ]
    },
    {
     "data": {
      "image/png": "[encoded data removed]",
      "text/plain": [
       "<Figure size 432x288 with 1 Axes>"
      ]
     },
     "metadata": {
      "needs_background": "light"
     },
     "output_type": "display_data"
    }
   ],
   "source": [
    "from replay_trajectory_classification import make_track_graph, plot_track_graph\n",
    "import matplotlib.pyplot as plt\n",
    "\n",
    "node_positions = [(40, 80), # 0\n",
    "                  (40, 0),  # 1\n",
    "                  (0, 0),   # 2\n",
    "                  (0, 80),  # 3\n",
    "                  (80, 0),  # 4\n",
    "                  (80, 80), # 5\n",
    "                 ]\n",
    "\n",
    "edges = [(0, 1),\n",
    "         (1, 2),\n",
    "         (2, 3),\n",
    "         (1, 4),\n",
    "         (4, 5)\n",
    "        ]\n",
    "\n",
    "track_graph1 = make_track_graph(node_positions, edges)\n",
    "\n",
    "fig, ax = plt.subplots()\n",
    "plot_track_graph(track_graph1, ax=ax, draw_edge_labels=True)\n",
    "ax.tick_params(left=True, bottom=True, labelleft=True, labelbottom=True)\n",
    "ax.set_xlabel(\"x-position\")\n",
    "ax.set_ylabel(\"y-position\")\n",
    "ax.spines[\"top\"].set_visible(False)\n",
    "ax.spines[\"right\"].set_visible(False)"
   ]
  },
  {
   "cell_type": "code",
   "execution_count": 3,
   "metadata": {},
   "outputs": [
    {
     "data": {
      "image/png": "[encoded data removed]",
      "text/plain": [
       "<Figure size 432x288 with 1 Axes>"
      ]
     },
     "metadata": {
      "needs_background": "light"
     },
     "output_type": "display_data"
    }
   ],
   "source": [
    "node_positions = [(80, 40),\n",
    "                  (0, 40),\n",
    "                  (0, 80),\n",
    "                  (80, 80),\n",
    "                  (0, 0),\n",
    "                  (80, 0),\n",
    "                 ]\n",
    "\n",
    "edges = [(0, 1),\n",
    "         (1, 2),\n",
    "         (2, 3),\n",
    "         (1, 4),\n",
    "         (4, 5)\n",
    "        ]\n",
    "\n",
    "track_graph2 = make_track_graph(node_positions, edges)\n",
    "\n",
    "fig, ax = plt.subplots()\n",
    "plot_track_graph(track_graph2, ax=ax, draw_edge_labels=True)\n",
    "ax.tick_params(left=True, bottom=True, labelleft=True, labelbottom=True)\n",
    "ax.set_xlabel(\"x-position\")\n",
    "ax.set_ylabel(\"y-position\")\n",
    "ax.spines[\"top\"].set_visible(False)\n",
    "ax.spines[\"right\"].set_visible(False)"
   ]
  },
  {
   "cell_type": "code",
   "execution_count": 4,
   "metadata": {},
   "outputs": [
    {
     "data": {
      "text/plain": [
       "EdgeView([(0, 1), (1, 2), (1, 4), (2, 3), (4, 5)])"
      ]
     },
     "execution_count": 4,
     "metadata": {},
     "output_type": "execute_result"
    }
   ],
   "source": [
    "track_graph1.edges"
   ]
  },
  {
   "cell_type": "code",
   "execution_count": 5,
   "metadata": {},
   "outputs": [
    {
     "data": {
      "text/plain": [
       "EdgeView([(0, 1), (1, 2), (1, 4), (2, 3), (4, 5)])"
      ]
     },
     "execution_count": 5,
     "metadata": {},
     "output_type": "execute_result"
    }
   ],
   "source": [
    "track_graph2.edges"
   ]
  },
  {
   "cell_type": "code",
   "execution_count": 6,
   "metadata": {},
   "outputs": [],
   "source": [
    "traversal_path = [(0, 1), (1, 2), (2, 3), (3, 2), (2, 1), (1, 0), (0, 1), (1, 4), (4, 5), (5, 4), (4, 1), (1, 0)]"
   ]
  },
  {
   "cell_type": "code",
   "execution_count": 7,
   "metadata": {},
   "outputs": [
    {
     "data": {
      "text/plain": [
       "<matplotlib.collections.PathCollection at 0x14c335be0>"
      ]
     },
     "execution_count": 7,
     "metadata": {},
     "output_type": "execute_result"
    },
    {
     "data": {
      "image/png": "[encoded data removed]",
      "text/plain": [
       "<Figure size 432x288 with 1 Axes>"
      ]
     },
     "metadata": {
      "needs_background": "light"
     },
     "output_type": "display_data"
    }
   ],
   "source": [
    "def generate_position(traversal_path, track_graph, step_size=0.020, n_traversals=10):\n",
    "    points = []\n",
    "    for _ in range(n_traversals):\n",
    "        for node1, node2 in traversal_path:\n",
    "            x1, y1 = track_graph.nodes[node1]['pos']\n",
    "            x2, y2 = track_graph.nodes[node2]['pos']\n",
    "            dx, dy = x2 - x1, y2 - y1\n",
    "            dist = np.sqrt(dx**2 + dy**2)\n",
    "            n_points = int(dist // step_size)\n",
    "            w = np.linspace(0, 1, n_points)\n",
    "            points.append((x1 + dx * w, y1 + dy * w))\n",
    "\n",
    "    return np.concatenate(points, axis=1).T\n",
    "\n",
    "position1 = generate_position(traversal_path, track_graph1)\n",
    "\n",
    "fig, ax = plt.subplots()\n",
    "plot_track_graph(track_graph1, ax=ax, draw_edge_labels=True)\n",
    "ax.tick_params(left=True, bottom=True, labelleft=True, labelbottom=True)\n",
    "ax.set_xlabel(\"x-position\")\n",
    "ax.set_ylabel(\"y-position\")\n",
    "ax.spines[\"top\"].set_visible(False)\n",
    "ax.spines[\"right\"].set_visible(False)\n",
    "\n",
    "ax.scatter(position1[:, 0], position1[:, 1], zorder=10, color='orange')"
   ]
  },
  {
   "cell_type": "code",
   "execution_count": 8,
   "metadata": {},
   "outputs": [
    {
     "data": {
      "text/plain": [
       "<matplotlib.collections.PathCollection at 0x14c3ca5e0>"
      ]
     },
     "execution_count": 8,
     "metadata": {},
     "output_type": "execute_result"
    },
    {
     "data": {
      "image/png": "[encoded data removed]",
      "text/plain": [
       "<Figure size 432x288 with 1 Axes>"
      ]
     },
     "metadata": {
      "needs_background": "light"
     },
     "output_type": "display_data"
    }
   ],
   "source": [
    "position2 = generate_position(traversal_path, track_graph2)\n",
    "\n",
    "fig, ax = plt.subplots()\n",
    "plot_track_graph(track_graph2, ax=ax, draw_edge_labels=True)\n",
    "ax.tick_params(left=True, bottom=True, labelleft=True, labelbottom=True)\n",
    "ax.set_xlabel(\"x-position\")\n",
    "ax.set_ylabel(\"y-position\")\n",
    "ax.spines[\"top\"].set_visible(False)\n",
    "ax.spines[\"right\"].set_visible(False)\n",
    "\n",
    "ax.scatter(position2[:, 0], position2[:, 1], zorder=10, color='orange')"
   ]
  },
  {
   "cell_type": "code",
   "execution_count": 9,
   "metadata": {},
   "outputs": [
    {
     "data": {
      "image/png": "[encoded data removed]",
      "text/plain": [
       "<Figure size 432x288 with 1 Axes>"
      ]
     },
     "metadata": {
      "needs_background": "light"
     },
     "output_type": "display_data"
    }
   ],
   "source": [
    "from replay_trajectory_classification import plot_graph_as_1D\n",
    "\n",
    "edge_order = [(0, 1),\n",
    "              (1, 2),\n",
    "              (2, 3),\n",
    "              (1, 4),\n",
    "              (4, 5)\n",
    "             ]\n",
    "edge_spacing = [30, 0, 30, 0, 0, 0]\n",
    "plot_graph_as_1D(track_graph1, edge_order, edge_spacing)"
   ]
  },
  {
   "cell_type": "code",
   "execution_count": 10,
   "metadata": {},
   "outputs": [
    {
     "data": {
      "text/plain": [
       "<matplotlib.collections.PathCollection at 0x14c4321f0>"
      ]
     },
     "execution_count": 10,
     "metadata": {},
     "output_type": "execute_result"
    },
    {
     "data": {
      "image/png": "[encoded data removed]",
      "text/plain": [
       "<Figure size 720x360 with 1 Axes>"
      ]
     },
     "metadata": {
      "needs_background": "light"
     },
     "output_type": "display_data"
    }
   ],
   "source": [
    "from track_linearization import get_linearized_position\n",
    "\n",
    "position_df1 = get_linearized_position(position1,\n",
    "                                      track_graph1,\n",
    "                                      edge_order=edge_order,\n",
    "                                      edge_spacing=edge_spacing,\n",
    "                                      use_HMM=False)\n",
    "plt.figure(figsize=(10, 5))\n",
    "plt.scatter(np.arange(position_df1.shape[0]), position_df1.linear_position)"
   ]
  },
  {
   "cell_type": "code",
   "execution_count": 11,
   "metadata": {},
   "outputs": [
    {
     "data": {
      "text/plain": [
       "<matplotlib.collections.PathCollection at 0x14c2b1c40>"
      ]
     },
     "execution_count": 11,
     "metadata": {},
     "output_type": "execute_result"
    },
    {
     "data": {
      "image/png": "[encoded data removed]",
      "text/plain": [
       "<Figure size 720x360 with 1 Axes>"
      ]
     },
     "metadata": {
      "needs_background": "light"
     },
     "output_type": "display_data"
    }
   ],
   "source": [
    "position_df2 = get_linearized_position(position2,\n",
    "                                      track_graph2,\n",
    "                                      edge_order=edge_order,\n",
    "                                      edge_spacing=edge_spacing,\n",
    "                                      use_HMM=False)\n",
    "plt.figure(figsize=(10, 5))\n",
    "plt.scatter(np.arange(position_df2.shape[0]), position_df2.linear_position)"
   ]
  },
  {
   "cell_type": "code",
   "execution_count": 12,
   "metadata": {},
   "outputs": [
    {
     "data": {
      "image/png": "[encoded data removed]",
      "text/plain": [
       "<Figure size 432x288 with 1 Axes>"
      ]
     },
     "metadata": {
      "needs_background": "light"
     },
     "output_type": "display_data"
    },
    {
     "data": {
      "image/png": "[encoded data removed]",
      "text/plain": [
       "<Figure size 432x288 with 1 Axes>"
      ]
     },
     "metadata": {
      "needs_background": "light"
     },
     "output_type": "display_data"
    }
   ],
   "source": [
    "from replay_trajectory_classification.simulate import simulate_neuron_with_place_field\n",
    "\n",
    "sampling_frequency = 1000\n",
    "\n",
    "place_field_centers = generate_position(traversal_path, track_graph1, step_size=10, n_traversals=1)\n",
    "place_field_centers = np.unique(place_field_centers, axis=0)\n",
    "\n",
    "fig, ax = plt.subplots()\n",
    "plot_track_graph(track_graph1, ax=ax, draw_edge_labels=True)\n",
    "ax.tick_params(left=True, bottom=True, labelleft=True, labelbottom=True)\n",
    "ax.set_xlabel(\"x-position\")\n",
    "ax.set_ylabel(\"y-position\")\n",
    "ax.spines[\"top\"].set_visible(False)\n",
    "ax.spines[\"right\"].set_visible(False)\n",
    "\n",
    "ax.scatter(place_field_centers[:, 0], place_field_centers[:, 1], zorder=10, color='red')\n",
    "\n",
    "\n",
    "spikes1 = np.stack([simulate_neuron_with_place_field(center, position1,\n",
    "                                                    sampling_frequency=sampling_frequency,\n",
    "                                                    variance=6.0**2)\n",
    "                   for center in place_field_centers], axis=1)\n",
    "\n",
    "fig, ax = plt.subplots()\n",
    "plot_track_graph(track_graph1, ax=ax, draw_edge_labels=True)\n",
    "ax.tick_params(left=True, bottom=True, labelleft=True, labelbottom=True)\n",
    "ax.set_xlabel(\"x-position\")\n",
    "ax.set_ylabel(\"y-position\")\n",
    "ax.spines[\"top\"].set_visible(False)\n",
    "ax.spines[\"right\"].set_visible(False)\n",
    "\n",
    "for spike in spikes1.T:\n",
    "    spike_ind = np.nonzero(spike)[0]\n",
    "    ax.scatter(position1[spike_ind, 0], position1[spike_ind, 1])"
   ]
  },
  {
   "cell_type": "code",
   "execution_count": 13,
   "metadata": {},
   "outputs": [
    {
     "data": {
      "image/png": "[encoded data removed]",
      "text/plain": [
       "<Figure size 432x288 with 1 Axes>"
      ]
     },
     "metadata": {
      "needs_background": "light"
     },
     "output_type": "display_data"
    },
    {
     "data": {
      "image/png": "[encoded data removed]",
      "text/plain": [
       "<Figure size 432x288 with 1 Axes>"
      ]
     },
     "metadata": {
      "needs_background": "light"
     },
     "output_type": "display_data"
    }
   ],
   "source": [
    "from replay_trajectory_classification.simulate import simulate_neuron_with_place_field\n",
    "\n",
    "sampling_frequency = 1000\n",
    "\n",
    "place_field_centers = generate_position(traversal_path, track_graph2, step_size=10, n_traversals=1)\n",
    "place_field_centers = np.unique(place_field_centers, axis=0)\n",
    "\n",
    "fig, ax = plt.subplots()\n",
    "plot_track_graph(track_graph2, ax=ax, draw_edge_labels=True)\n",
    "ax.tick_params(left=True, bottom=True, labelleft=True, labelbottom=True)\n",
    "ax.set_xlabel(\"x-position\")\n",
    "ax.set_ylabel(\"y-position\")\n",
    "ax.spines[\"top\"].set_visible(False)\n",
    "ax.spines[\"right\"].set_visible(False)\n",
    "\n",
    "ax.scatter(place_field_centers[:, 0], place_field_centers[:, 1], zorder=10, color='red')\n",
    "\n",
    "\n",
    "spikes2 = np.stack([simulate_neuron_with_place_field(center, position2,\n",
    "                                                    sampling_frequency=sampling_frequency,\n",
    "                                                    variance=6.0**2)\n",
    "                   for center in place_field_centers], axis=1)\n",
    "\n",
    "fig, ax = plt.subplots()\n",
    "plot_track_graph(track_graph2, ax=ax, draw_edge_labels=True)\n",
    "ax.tick_params(left=True, bottom=True, labelleft=True, labelbottom=True)\n",
    "ax.set_xlabel(\"x-position\")\n",
    "ax.set_ylabel(\"y-position\")\n",
    "ax.spines[\"top\"].set_visible(False)\n",
    "ax.spines[\"right\"].set_visible(False)\n",
    "\n",
    "for spike in spikes2.T:\n",
    "    spike_ind = np.nonzero(spike)[0]\n",
    "    ax.scatter(position2[spike_ind, 0], position2[spike_ind, 1])"
   ]
  },
  {
   "cell_type": "code",
   "execution_count": 65,
   "metadata": {},
   "outputs": [],
   "source": [
    "from replay_trajectory_classification.simulate import simulate_neuron_with_place_field\n",
    "from track_linearization import get_linearized_position\n",
    "from replay_trajectory_classification import make_track_graph\n",
    "import numpy as np\n",
    "\n",
    "\n",
    "def generate_position(traversal_path, track_graph, step_size=0.020, n_traversals=10):\n",
    "    points = []\n",
    "    for _ in range(n_traversals):\n",
    "        for node1, node2 in traversal_path:\n",
    "            x1, y1 = track_graph.nodes[node1]['pos']\n",
    "            x2, y2 = track_graph.nodes[node2]['pos']\n",
    "            dx, dy = x2 - x1, y2 - y1\n",
    "            dist = np.sqrt(dx**2 + dy**2)\n",
    "            n_points = int(dist // step_size)\n",
    "            w = np.linspace(0, 1, n_points)\n",
    "            points.append((x1 + dx * w, y1 + dy * w))\n",
    "\n",
    "    return np.concatenate(points, axis=1).T\n",
    "\n",
    "def make_two_environment_data():\n",
    "    node_positions1 = [(40, 80), # 0\n",
    "                       (40, 0),  # 1\n",
    "                       (0, 0),   # 2\n",
    "                       (0, 80),  # 3\n",
    "                       (80, 0),  # 4\n",
    "                       (80, 80), # 5\n",
    "                       ]\n",
    "\n",
    "    node_positions2 = [(80, 40),\n",
    "                       (0, 40),\n",
    "                       (0, 80),\n",
    "                       (80, 80),\n",
    "                       (0, 0),\n",
    "                       (80, 0),\n",
    "                       ]\n",
    "    edges = [(0, 1),\n",
    "             (1, 2),\n",
    "             (2, 3),\n",
    "             (1, 4),\n",
    "             (4, 5)\n",
    "            ]\n",
    "\n",
    "    track_graph1 = make_track_graph(node_positions1, edges)\n",
    "    track_graph2 = make_track_graph(node_positions2, edges)\n",
    "    \n",
    "    traversal_path = [(0, 1), (1, 2), (2, 3), (3, 2), (2, 1), (1, 0), (0, 1), (1, 4), (4, 5), (5, 4), (4, 1), (1, 0)]\n",
    "    position1 = generate_position(traversal_path, track_graph1)\n",
    "    position2 = generate_position(traversal_path, track_graph2)\n",
    "    \n",
    "    edge_order = ((0, 1),\n",
    "                  (1, 2),\n",
    "                  (2, 3),\n",
    "                  (1, 4),\n",
    "                  (4, 5)\n",
    "                 )\n",
    "    edge_spacing = (30, 0, 30, 0)\n",
    "    position_df1 = get_linearized_position(position1,\n",
    "                                           track_graph1,\n",
    "                                           edge_order=edge_order,\n",
    "                                           edge_spacing=edge_spacing,\n",
    "                                           use_HMM=False)\n",
    "    position_df2 = get_linearized_position(position2,\n",
    "                                          track_graph2,\n",
    "                                          edge_order=edge_order,\n",
    "                                          edge_spacing=edge_spacing,\n",
    "                                          use_HMM=False)\n",
    "    \n",
    "    sampling_frequency = 1000\n",
    "\n",
    "    place_field_centers1 = generate_position(traversal_path, track_graph1, step_size=10, n_traversals=1)\n",
    "    place_field_centers1 = np.unique(place_field_centers1, axis=0)\n",
    "    \n",
    "    spikes1 = np.stack([simulate_neuron_with_place_field(center, position1,\n",
    "                                                        sampling_frequency=sampling_frequency,\n",
    "                                                        variance=6.0**2)\n",
    "                       for center in place_field_centers1], axis=1)\n",
    "    \n",
    "    place_field_centers2 = generate_position(traversal_path, track_graph2, step_size=10, n_traversals=1)\n",
    "    place_field_centers2 = np.unique(place_field_centers2, axis=0)\n",
    "    \n",
    "    spikes2 = np.stack([simulate_neuron_with_place_field(center, position2,\n",
    "                                                    sampling_frequency=sampling_frequency,\n",
    "                                                    variance=6.0**2)\n",
    "                   for center in place_field_centers2], axis=1)\n",
    "    \n",
    "    return (spikes1, spikes2,\n",
    "            position_df1, position_df2,\n",
    "            track_graph1, track_graph2, \n",
    "            place_field_centers1, place_field_centers2,\n",
    "            position1, position2,\n",
    "            edge_order, edge_spacing\n",
    "           )\n",
    "\n",
    "(spikes1, spikes2,\n",
    " position_df1, position_df2,\n",
    " track_graph1, track_graph2, \n",
    " place_field_centers1, place_field_centers2,\n",
    " position1, position2,\n",
    " edge_order, edge_spacing\n",
    ") = make_two_environment_data()"
   ]
  },
  {
   "attachments": {},
   "cell_type": "markdown",
   "metadata": {},
   "source": [
    "| Likelihood       |\n",
    "|------------------|\n",
    "| env1, continuous |\n",
    "| env2, continuous |\n",
    "\n",
    "\n",
    "\n",
    "|                       | env1, continuous  | env2, continuous  |\n",
    "|-----------------------|-------------------|-------------------|\n",
    "| **env1, continuous**  | random walk, env1 | uniform           |\n",
    "| **env2, continuous**  | uniform           | random walk, env2 |\n",
    "\n",
    "\n",
    "+ Change text inputs for continuous_transition_types to classes"
   ]
  },
  {
   "cell_type": "code",
   "execution_count": 172,
   "metadata": {},
   "outputs": [
    {
     "data": {
      "text/plain": [
       "(Environment(environment_name='w_track1', place_bin_size=2.0, track_graph=<networkx.classes.graph.Graph object at 0x14c551e80>, edge_order=((0, 1), (1, 2), (2, 3), (1, 4), (4, 5)), edge_spacing=(30, 0, 30, 0), is_track_interior=None, position_range=None, infer_track_interior=True),\n",
       " Environment(environment_name='w_track2', place_bin_size=2.0, track_graph=<networkx.classes.graph.Graph object at 0x14c5513d0>, edge_order=((0, 1), (1, 2), (2, 3), (1, 4), (4, 5)), edge_spacing=(30, 0, 30, 0), is_track_interior=None, position_range=None, infer_track_interior=True))"
      ]
     },
     "execution_count": 172,
     "metadata": {},
     "output_type": "execute_result"
    }
   ],
   "source": [
    "from replay_trajectory_classification.bins import (atleast_2d, get_centers,\n",
    "                                                   get_grid, get_track_grid,\n",
    "                                                   get_track_interior)\n",
    "from dataclasses import dataclass\n",
    "import networkx as nx\n",
    "import matplotlib.pyplot as plt\n",
    "\n",
    "@dataclass\n",
    "class Environment:\n",
    "    environment_name: str = None\n",
    "    place_bin_size: float = 2.0\n",
    "    track_graph: nx.Graph = None\n",
    "    edge_order: tuple = None\n",
    "    edge_spacing: tuple = None\n",
    "    is_track_interior: np.ndarray = None\n",
    "    position_range: np.ndarray = None\n",
    "    infer_track_interior: bool = True\n",
    "    \n",
    "    def fit_place_grid(self, position=None, infer_track_interior=True):\n",
    "        if self.track_graph is None:\n",
    "            (self.edges_,\n",
    "             self.place_bin_edges_,\n",
    "             self.place_bin_centers_,\n",
    "             self.centers_shape_\n",
    "            ) = get_grid(position, self.place_bin_size, self.position_range,\n",
    "                         self.infer_track_interior)\n",
    "\n",
    "            self.infer_track_interior = infer_track_interior\n",
    "\n",
    "            if self.is_track_interior is None and self.infer_track_interior:\n",
    "                self.is_track_interior_ = get_track_interior(\n",
    "                    position, self.edges_)\n",
    "            elif is_track_interior is None and not self.infer_track_interior:\n",
    "                self.is_track_interior_ = np.ones(\n",
    "                    self.centers_shape_, dtype=bool)\n",
    "        else:\n",
    "            (\n",
    "                self.place_bin_centers_,\n",
    "                self.place_bin_edges_,\n",
    "                self.is_track_interior_,\n",
    "                self.distance_between_nodes_,\n",
    "                self.centers_shape_,\n",
    "                self.edges_,\n",
    "                self.track_graph_with_bin_centers_edges_,\n",
    "                self.original_nodes_df_,\n",
    "                self.place_bin_edges_nodes_df_,\n",
    "                self.place_bin_centers_nodes_df_,\n",
    "                self.nodes_df_\n",
    "            ) = get_track_grid(self.track_graph, self.edge_order,\n",
    "                               self.edge_spacing, self.place_bin_size)\n",
    "\n",
    "        return self\n",
    "    \n",
    "    def plot_grid(self, ax=None):\n",
    "        if self.track_graph is not None:\n",
    "            if ax is None:\n",
    "                fig, ax = plt.subplots(figsize=(15, 2))\n",
    "\n",
    "            plot_graph_as_1D(self.track_graph, self.edge_order,\n",
    "                             self.edge_spacing, ax=ax)\n",
    "            for edge in self.edges_[0]:\n",
    "                ax.axvline(edge.squeeze(), linewidth=0.5, color='black')\n",
    "            ax.set_ylim((0, 0.1))\n",
    "        else:\n",
    "            if ax is None:\n",
    "                fig, ax = plt.subplots(figsize=(6, 7))\n",
    "            ax.pcolormesh(self.edges_[0], self.edges_[1], self.is_track_interior_.T,\n",
    "                          cmap='bone_r')\n",
    "            ax.set_xticks(self.edges_[0], minor=True)\n",
    "            ax.set_yticks(self.edges_[1], minor=True)\n",
    "            ax.grid(True, which='both')\n",
    "\n",
    "\n",
    "env1 = Environment(environment_name='w_track1',\n",
    "                  place_bin_size=2.0,\n",
    "                  track_graph=track_graph1,\n",
    "                  edge_spacing=edge_spacing,\n",
    "                  edge_order=edge_order)\n",
    "env1.fit_place_grid(position_df1.linear_position)\n",
    "\n",
    "env2 = Environment(environment_name='w_track2',\n",
    "                   place_bin_size=2.0,\n",
    "                   track_graph=track_graph2,\n",
    "                   edge_spacing=edge_spacing,\n",
    "                   edge_order=edge_order)\n",
    "env2.fit_place_grid(position_df2.linear_position)\n",
    "\n",
    "env1, env2"
   ]
  },
  {
   "cell_type": "code",
   "execution_count": 177,
   "metadata": {},
   "outputs": [],
   "source": [
    "from replay_trajectory_classification.state_transition import _normalize_row_probability, atleast_2d\n",
    "from scipy.stats import multivariate_normal\n",
    "import numpy as np\n",
    "\n",
    "def _random_walk_on_track_graph(\n",
    "    place_bin_centers, movement_var,\n",
    "    place_bin_center_ind_to_node,\n",
    "    distance_between_nodes\n",
    "):\n",
    "    state_transition = np.zeros(\n",
    "        (place_bin_centers.size, place_bin_centers.size))\n",
    "    gaussian = multivariate_normal(mean=0, cov=movement_var)\n",
    "\n",
    "    for bin_ind1, node1 in enumerate(place_bin_center_ind_to_node):\n",
    "        for bin_ind2, node2 in enumerate(place_bin_center_ind_to_node):\n",
    "            try:\n",
    "                state_transition[bin_ind1, bin_ind2] = gaussian.pdf(\n",
    "                    distance_between_nodes[node1][node2]\n",
    "                )\n",
    "            except KeyError:\n",
    "                # bins not on track interior will be -1 and not in distance\n",
    "                # between nodes\n",
    "                continue\n",
    "\n",
    "    return state_transition\n",
    "\n",
    "@dataclass\n",
    "class RandomWalk:\n",
    "    environment_name: str = None\n",
    "    movement_var: float = 6.0\n",
    "        \n",
    "    def make_state_transition(self, environments: dict):\n",
    "        self.environment = environments[self.environment_name]\n",
    "\n",
    "        if self.environment.track_graph is None:\n",
    "            transition_matrix = np.stack(\n",
    "                [multivariate_normal(\n",
    "                    mean=center, cov=self.movement_var).pdf(\n",
    "                    place_bin_centers)\n",
    "                 for center in self.environment.place_bin_centers_], axis=1)\n",
    "        else:\n",
    "            place_bin_center_ind_to_node = np.asarray(\n",
    "                self.environment.place_bin_centers_nodes_df_.node_id)\n",
    "            transition_matrix = _random_walk_on_track_graph(\n",
    "                self.environment.place_bin_centers_,\n",
    "                self.movement_var,\n",
    "                place_bin_center_ind_to_node,\n",
    "                self.environment.distance_between_nodes_\n",
    "            )\n",
    "\n",
    "        is_track_interior = self.environment.is_track_interior_.ravel(order='F')\n",
    "        transition_matrix[~is_track_interior] = 0.0\n",
    "        transition_matrix[:, ~is_track_interior] = 0.0\n",
    "\n",
    "        self.state_transition_ = _normalize_row_probability(transition_matrix)\n",
    "\n",
    "        return self.state_transition_\n",
    "\n",
    "@dataclass\n",
    "class Uniform:\n",
    "    environment_name: str\n",
    "    environment2_name: str = None\n",
    "\n",
    "    def make_state_transition(self, environments):\n",
    "        self.environment1 = environments[self.environment_name]\n",
    "        n_bins1 = self.environment1.place_bin_centers_.shape[0]\n",
    "        is_track_interior1 = self.environment1.is_track_interior_.ravel(order='F')\n",
    "        \n",
    "        if self.environment2_name is None:\n",
    "            n_bins2 = n_bins1\n",
    "            is_track_interior2 = is_track_interior1.copy()\n",
    "        else:\n",
    "            self.environment2 = environments[self.environment2_name]\n",
    "            n_bins2 = self.environment2.place_bin_centers_.shape[0]\n",
    "            is_track_interior2 = self.environment2.is_track_interior_.ravel(order='F')\n",
    "\n",
    "        transition_matrix = np.ones((n_bins1, n_bins2))\n",
    "\n",
    "        transition_matrix[~is_track_interior1] = 0.0\n",
    "        transition_matrix[:, ~is_track_interior2] = 0.0\n",
    "\n",
    "        return _normalize_row_probability(transition_matrix)\n",
    "\n",
    "@dataclass\n",
    "class Identity:\n",
    "    environment_name: str = None\n",
    "        \n",
    "    def make_state_transition(self, environments: dict):\n",
    "        self.environment = environments[self.environment_name]\n",
    "        n_bins = self.environment.place_bin_centers_.shape[0]\n",
    "        \n",
    "        transition_matrix = np.identity(n_bins)\n",
    "\n",
    "        is_track_interior = self.environment.is_track_interior_.ravel(order='F')\n",
    "        transition_matrix[~is_track_interior] = 0.0\n",
    "        transition_matrix[:, ~is_track_interior] = 0.0\n",
    "\n",
    "        return _normalize_row_probability(transition_matrix)\n",
    "\n",
    "@dataclass\n",
    "class EmpiricalMovement:\n",
    "    environment_name: str = None\n",
    "    speedup: int = 20\n",
    "\n",
    "    def make_state_transition(self, environments, position, is_training=None):\n",
    "        self.environment = environments[self.environment_name]\n",
    "        \n",
    "        if is_training is None:\n",
    "            is_training = np.ones((position.shape[0]), dtype=bool)\n",
    "\n",
    "        position = atleast_2d(position)[is_training]\n",
    "        state_transition, _ = np.histogramdd(\n",
    "            np.concatenate((position[1:], position[:-1]), axis=1),\n",
    "            bins=self.environment.edges_ * 2, range=self.environment.position_range)\n",
    "        original_shape = state_transition.shape\n",
    "        n_position_dims = position.shape[1]\n",
    "        shape_2d = np.product(original_shape[:n_position_dims])\n",
    "        state_transition = _normalize_row_probability(\n",
    "            state_transition.reshape((shape_2d, shape_2d), order='F'))\n",
    "        return np.linalg.matrix_power(state_transition, self.speedup)\n",
    "    \n",
    "\n",
    "@dataclass\n",
    "class RandomWalkDirection1():\n",
    "    environment_name: str = None\n",
    "    movement_var: float = 6.0\n",
    "\n",
    "    def make_state_transition(self, environments: dict):\n",
    "        random = (RandomWalk(self.environment_name, self.movement_var)\n",
    "                  .make_state_transition(environments))\n",
    "        return _normalize_row_probability(np.triu(random))\n",
    "\n",
    "\n",
    "@dataclass\n",
    "class RandomWalkDirection2():\n",
    "    environment_name: str = None\n",
    "    movement_var: float = 6.0\n",
    "\n",
    "    def make_state_transition(self, environments: dict):\n",
    "        random = (RandomWalk(self.environment_name, self.movement_var)\n",
    "                  .make_state_transition(environments))\n",
    "        return _normalize_row_probability(np.tril(random))\n"
   ]
  },
  {
   "cell_type": "code",
   "execution_count": 179,
   "metadata": {},
   "outputs": [
    {
     "data": {
      "text/plain": [
       "array([[0.49140289, 0.35210556, 0.1295324 , ..., 0.        , 0.        ,\n",
       "        0.        ],\n",
       "       [0.        , 0.49140289, 0.35210556, ..., 0.        , 0.        ,\n",
       "        0.        ],\n",
       "       [0.        , 0.        , 0.49140289, ..., 0.        , 0.        ,\n",
       "        0.        ],\n",
       "       ...,\n",
       "       [0.        , 0.        , 0.        , ..., 0.50501774, 0.36186103,\n",
       "        0.13312123],\n",
       "       [0.        , 0.        , 0.        , ..., 0.        , 0.58257021,\n",
       "        0.41742979],\n",
       "       [0.        , 0.        , 0.        , ..., 0.        , 0.        ,\n",
       "        1.        ]])"
      ]
     },
     "execution_count": 179,
     "metadata": {},
     "output_type": "execute_result"
    }
   ],
   "source": [
    "environments = {'w_track1': env1, 'w_track2': env2}\n",
    "RandomWalk(environment_name='w_track2').make_state_transition(environments)\n",
    "Uniform(environment_name='w_track1').make_state_transition(environments)\n",
    "Identity(environment_name='w_track2').make_state_transition(environments)\n",
    "EmpiricalMovement(environment_name='w_track2').make_state_transition(environments, position_df2.linear_position)\n",
    "\n",
    "RandomWalkDirection1(environment_name='w_track2').make_state_transition(environments)"
   ]
  },
  {
   "cell_type": "code",
   "execution_count": 176,
   "metadata": {},
   "outputs": [
    {
     "ename": "KeyError",
     "evalue": "None",
     "output_type": "error",
     "traceback": [
      "\u001b[0;31m---------------------------------------------------------------------------\u001b[0m",
      "\u001b[0;31mKeyError\u001b[0m                                  Traceback (most recent call last)",
      "\u001b[0;32m/var/folders/86/m147b4k17lddvs_xsw0mj2zw0000gn/T/ipykernel_18142/1907309638.py\u001b[0m in \u001b[0;36m<module>\u001b[0;34m\u001b[0m\n\u001b[0;32m----> 1\u001b[0;31m \u001b[0mRandomWalkDirection1\u001b[0m\u001b[0;34m(\u001b[0m\u001b[0;34m)\u001b[0m\u001b[0;34m.\u001b[0m\u001b[0mmake_state_transition\u001b[0m\u001b[0;34m(\u001b[0m\u001b[0menvironments\u001b[0m\u001b[0;34m)\u001b[0m\u001b[0;34m\u001b[0m\u001b[0;34m\u001b[0m\u001b[0m\n\u001b[0m",
      "\u001b[0;32m/var/folders/86/m147b4k17lddvs_xsw0mj2zw0000gn/T/ipykernel_18142/3405286320.py\u001b[0m in \u001b[0;36mmake_state_transition\u001b[0;34m(self, environments)\u001b[0m\n\u001b[1;32m     31\u001b[0m \u001b[0;34m\u001b[0m\u001b[0m\n\u001b[1;32m     32\u001b[0m     \u001b[0;32mdef\u001b[0m \u001b[0mmake_state_transition\u001b[0m\u001b[0;34m(\u001b[0m\u001b[0mself\u001b[0m\u001b[0;34m,\u001b[0m \u001b[0menvironments\u001b[0m\u001b[0;34m:\u001b[0m \u001b[0mdict\u001b[0m\u001b[0;34m)\u001b[0m\u001b[0;34m:\u001b[0m\u001b[0;34m\u001b[0m\u001b[0;34m\u001b[0m\u001b[0m\n\u001b[0;32m---> 33\u001b[0;31m         \u001b[0mself\u001b[0m\u001b[0;34m.\u001b[0m\u001b[0menvironment\u001b[0m \u001b[0;34m=\u001b[0m \u001b[0menvironments\u001b[0m\u001b[0;34m[\u001b[0m\u001b[0mself\u001b[0m\u001b[0;34m.\u001b[0m\u001b[0menvironment_name\u001b[0m\u001b[0;34m]\u001b[0m\u001b[0;34m\u001b[0m\u001b[0;34m\u001b[0m\u001b[0m\n\u001b[0m\u001b[1;32m     34\u001b[0m \u001b[0;34m\u001b[0m\u001b[0m\n\u001b[1;32m     35\u001b[0m         \u001b[0;32mif\u001b[0m \u001b[0mself\u001b[0m\u001b[0;34m.\u001b[0m\u001b[0menvironment\u001b[0m\u001b[0;34m.\u001b[0m\u001b[0mtrack_graph\u001b[0m \u001b[0;32mis\u001b[0m \u001b[0;32mNone\u001b[0m\u001b[0;34m:\u001b[0m\u001b[0;34m\u001b[0m\u001b[0;34m\u001b[0m\u001b[0m\n",
      "\u001b[0;31mKeyError\u001b[0m: None"
     ]
    }
   ],
   "source": [
    "RandomWalkDirection1().make_state_transition(environments)"
   ]
  },
  {
   "cell_type": "code",
   "execution_count": 171,
   "metadata": {},
   "outputs": [
    {
     "data": {
      "text/plain": [
       "True"
      ]
     },
     "execution_count": 171,
     "metadata": {},
     "output_type": "execute_result"
    }
   ],
   "source": [
    "None == None"
   ]
  },
  {
   "cell_type": "code",
   "execution_count": 161,
   "metadata": {},
   "outputs": [
    {
     "data": {
      "text/plain": [
       "[Identity(environment_name='w_track2'),\n",
       " Identity(environment_name='w_track2'),\n",
       " RandomWalk(environment_name='w_track2', movement_var=6.0)]"
      ]
     },
     "execution_count": 161,
     "metadata": {},
     "output_type": "execute_result"
    }
   ],
   "source": [
    "[Identity(environment_name='w_track2'), Identity(environment_name='w_track2'), RandomWalk(environment_name='w_track2')]"
   ]
  },
  {
   "cell_type": "code",
   "execution_count": 213,
   "metadata": {},
   "outputs": [
    {
     "data": {
      "text/plain": [
       "(array([[0.33333333, 0.33333333, 0.33333333],\n",
       "        [0.33333333, 0.33333333, 0.33333333],\n",
       "        [0.33333333, 0.33333333, 0.33333333]]),\n",
       " array([[0.4, 0.3, 0.3],\n",
       "        [0.3, 0.4, 0.3],\n",
       "        [0.3, 0.3, 0.4]]),\n",
       " array([[0.58108445, 0.32211675, 0.0967988 ],\n",
       "        [0.58497236, 0.14174199, 0.27328565],\n",
       "        [0.32193895, 0.36929776, 0.30876329]]))"
      ]
     },
     "execution_count": 213,
     "metadata": {},
     "output_type": "execute_result"
    }
   ],
   "source": [
    "from dataclasses import dataclass\n",
    "\n",
    "import numpy as np\n",
    "\n",
    "\n",
    "@dataclass\n",
    "class DiagonalDiscrete:\n",
    "    diagonal_value: float = 0.98\n",
    "\n",
    "    def make_state_transition(self, n_states):\n",
    "        strong_diagonal = np.identity(n_states) * self.diagonal_value\n",
    "        is_off_diag = ~np.identity(n_states, dtype=bool)\n",
    "        strong_diagonal[is_off_diag] = (\n",
    "            (1 - self.diagonal_value) / (n_states - 1))\n",
    "\n",
    "        self.state_transition_ = strong_diagonal\n",
    "        return self.state_transition_\n",
    "\n",
    "\n",
    "@dataclass\n",
    "class UniformDiscrete:\n",
    "    def make_state_transition(self, n_states):\n",
    "        self.state_transition_ = np.ones((n_states, n_states)) / n_states\n",
    "\n",
    "        return self.state_transition_\n",
    "\n",
    "\n",
    "@dataclass\n",
    "class RandomDiscrete:\n",
    "    def make_state_transition(self, n_states):\n",
    "        state_transition = np.random.rand(n_states, n_states)\n",
    "        state_transition /= state_transition.sum(axis=1, keepdims=True)\n",
    "\n",
    "        self.state_transition_ = state_transition\n",
    "        return self.state_transition_\n",
    "\n",
    "\n",
    "UniformDiscrete().make_state_transition(3), DiagonalDiscrete(0.4).make_state_transition(3),  RandomDiscrete().make_state_transition(3)"
   ]
  },
  {
   "cell_type": "code",
   "execution_count": 192,
   "metadata": {},
   "outputs": [
    {
     "data": {
      "text/plain": [
       "array([[0.2, 0.2, 0.2, 0.2, 0.2],\n",
       "       [0.2, 0.2, 0.2, 0.2, 0.2],\n",
       "       [0.2, 0.2, 0.2, 0.2, 0.2],\n",
       "       [0.2, 0.2, 0.2, 0.2, 0.2],\n",
       "       [0.2, 0.2, 0.2, 0.2, 0.2]])"
      ]
     },
     "execution_count": 192,
     "metadata": {},
     "output_type": "execute_result"
    }
   ],
   "source": [
    "DiagonalDiscrete(1/5).make_state_transition(5)"
   ]
  },
  {
   "cell_type": "code",
   "execution_count": 235,
   "metadata": {},
   "outputs": [
    {
     "data": {
      "text/plain": [
       "array([[0.98, 0.02],\n",
       "       [0.02, 0.98]])"
      ]
     },
     "execution_count": 235,
     "metadata": {},
     "output_type": "execute_result"
    }
   ],
   "source": [
    "from replay_trajectory_classification.continuous_state_transitions import RandomWalk, Uniform\n",
    "from replay_trajectory_classification.discrete_state_transitions import DiagonalDiscrete\n",
    "\n",
    "continuous_state_transition_types = [[RandomWalk('w_track1', 6.0), Uniform('w_track1', 'w_track2')],\n",
    "                                     [Uniform('w_track2', 'w_track1'), RandomWalk('w_track2', 6.0)]]\n",
    "\n",
    "environments = {'w_track1': env1, 'w_track2': env2}\n",
    "continuous_state_transition = [[ct.make_state_transition(environments) for ct in ct1]\n",
    "                                for ct1 in continuous_state_transition_types]\n",
    "\n",
    "discrete_state_transition = DiagonalDiscrete(0.98).make_state_transition(n_states=2)\n",
    "discrete_state_transition"
   ]
  },
  {
   "cell_type": "code",
   "execution_count": 247,
   "metadata": {},
   "outputs": [
    {
     "data": {
      "text/plain": [
       "[array([0.003125, 0.003125, 0.003125, 0.003125, 0.003125, 0.003125,\n",
       "        0.003125, 0.003125, 0.003125, 0.003125, 0.003125, 0.003125,\n",
       "        0.003125, 0.003125, 0.003125, 0.003125, 0.003125, 0.003125,\n",
       "        0.003125, 0.003125, 0.003125, 0.003125, 0.003125, 0.003125,\n",
       "        0.003125, 0.003125, 0.003125, 0.003125, 0.003125, 0.003125,\n",
       "        0.003125, 0.003125, 0.003125, 0.003125, 0.003125, 0.003125,\n",
       "        0.003125, 0.003125, 0.003125, 0.003125, 0.      , 0.003125,\n",
       "        0.003125, 0.003125, 0.003125, 0.003125, 0.003125, 0.003125,\n",
       "        0.003125, 0.003125, 0.003125, 0.003125, 0.003125, 0.003125,\n",
       "        0.003125, 0.003125, 0.003125, 0.003125, 0.003125, 0.003125,\n",
       "        0.003125, 0.003125, 0.003125, 0.003125, 0.003125, 0.003125,\n",
       "        0.003125, 0.003125, 0.003125, 0.003125, 0.003125, 0.003125,\n",
       "        0.003125, 0.003125, 0.003125, 0.003125, 0.003125, 0.003125,\n",
       "        0.003125, 0.003125, 0.003125, 0.003125, 0.003125, 0.003125,\n",
       "        0.003125, 0.003125, 0.003125, 0.003125, 0.003125, 0.003125,\n",
       "        0.003125, 0.003125, 0.003125, 0.003125, 0.003125, 0.003125,\n",
       "        0.003125, 0.003125, 0.003125, 0.003125, 0.003125, 0.      ,\n",
       "        0.003125, 0.003125, 0.003125, 0.003125, 0.003125, 0.003125,\n",
       "        0.003125, 0.003125, 0.003125, 0.003125, 0.003125, 0.003125,\n",
       "        0.003125, 0.003125, 0.003125, 0.003125, 0.003125, 0.003125,\n",
       "        0.003125, 0.003125, 0.003125, 0.003125, 0.003125, 0.003125,\n",
       "        0.003125, 0.003125, 0.003125, 0.003125, 0.003125, 0.003125,\n",
       "        0.003125, 0.003125, 0.003125, 0.003125, 0.003125, 0.003125,\n",
       "        0.003125, 0.003125, 0.003125, 0.003125, 0.003125, 0.003125,\n",
       "        0.003125, 0.003125, 0.003125, 0.003125, 0.003125, 0.003125,\n",
       "        0.003125, 0.003125, 0.003125, 0.003125, 0.003125, 0.003125,\n",
       "        0.003125, 0.003125, 0.003125, 0.003125, 0.003125, 0.003125]),\n",
       " array([0.003125, 0.003125, 0.003125, 0.003125, 0.003125, 0.003125,\n",
       "        0.003125, 0.003125, 0.003125, 0.003125, 0.003125, 0.003125,\n",
       "        0.003125, 0.003125, 0.003125, 0.003125, 0.003125, 0.003125,\n",
       "        0.003125, 0.003125, 0.003125, 0.003125, 0.003125, 0.003125,\n",
       "        0.003125, 0.003125, 0.003125, 0.003125, 0.003125, 0.003125,\n",
       "        0.003125, 0.003125, 0.003125, 0.003125, 0.003125, 0.003125,\n",
       "        0.003125, 0.003125, 0.003125, 0.003125, 0.      , 0.003125,\n",
       "        0.003125, 0.003125, 0.003125, 0.003125, 0.003125, 0.003125,\n",
       "        0.003125, 0.003125, 0.003125, 0.003125, 0.003125, 0.003125,\n",
       "        0.003125, 0.003125, 0.003125, 0.003125, 0.003125, 0.003125,\n",
       "        0.003125, 0.003125, 0.003125, 0.003125, 0.003125, 0.003125,\n",
       "        0.003125, 0.003125, 0.003125, 0.003125, 0.003125, 0.003125,\n",
       "        0.003125, 0.003125, 0.003125, 0.003125, 0.003125, 0.003125,\n",
       "        0.003125, 0.003125, 0.003125, 0.003125, 0.003125, 0.003125,\n",
       "        0.003125, 0.003125, 0.003125, 0.003125, 0.003125, 0.003125,\n",
       "        0.003125, 0.003125, 0.003125, 0.003125, 0.003125, 0.003125,\n",
       "        0.003125, 0.003125, 0.003125, 0.003125, 0.003125, 0.      ,\n",
       "        0.003125, 0.003125, 0.003125, 0.003125, 0.003125, 0.003125,\n",
       "        0.003125, 0.003125, 0.003125, 0.003125, 0.003125, 0.003125,\n",
       "        0.003125, 0.003125, 0.003125, 0.003125, 0.003125, 0.003125,\n",
       "        0.003125, 0.003125, 0.003125, 0.003125, 0.003125, 0.003125,\n",
       "        0.003125, 0.003125, 0.003125, 0.003125, 0.003125, 0.003125,\n",
       "        0.003125, 0.003125, 0.003125, 0.003125, 0.003125, 0.003125,\n",
       "        0.003125, 0.003125, 0.003125, 0.003125, 0.003125, 0.003125,\n",
       "        0.003125, 0.003125, 0.003125, 0.003125, 0.003125, 0.003125,\n",
       "        0.003125, 0.003125, 0.003125, 0.003125, 0.003125, 0.003125,\n",
       "        0.003125, 0.003125, 0.003125, 0.003125, 0.003125, 0.003125])]"
      ]
     },
     "execution_count": 247,
     "metadata": {},
     "output_type": "execute_result"
    }
   ],
   "source": [
    "@dataclass\n",
    "class UniformInitialConditions:\n",
    "    environment_names: tuple\n",
    "        \n",
    "    def make_initial_conditions(self, environments):\n",
    "        n_total_place_bins = 0\n",
    "        initial_conditions = []\n",
    "        \n",
    "        for environment_name in self.environment_names:\n",
    "            environment = environments[environment_name]\n",
    "            n_place_bins = environment.is_track_interior_.sum()\n",
    "            n_total_place_bins += n_place_bins\n",
    "            initial_conditions.append(environment.is_track_interior_)\n",
    "        \n",
    "        return [ic / n_total_place_bins for ic in initial_conditions]\n",
    "\n",
    "initial_conditions = UniformInitialConditions(('w_track1', 'w_track2')).make_initial_conditions(environments)\n",
    "initial_conditions"
   ]
  },
  {
   "cell_type": "code",
   "execution_count": 290,
   "metadata": {},
   "outputs": [
    {
     "name": "stdout",
     "output_type": "stream",
     "text": [
      "w_track1 Outbound\n",
      "w_track1 Inbound\n"
     ]
    },
    {
     "data": {
      "text/plain": [
       "{('w_track1',\n",
       "  'Outbound'): <xarray.DataArray (position: 162, neuron: 47)>\n",
       " array([[0.00031373, 0.00033385, 0.00035523, ..., 0.00031344, 0.0003051 ,\n",
       "         0.00024565],\n",
       "        [0.00030206, 0.00032079, 0.0003406 , ..., 0.00030173, 0.00029414,\n",
       "         0.00024004],\n",
       "        [0.00029186, 0.00030939, 0.00032784, ..., 0.00029148, 0.00028454,\n",
       "         0.00023507],\n",
       "        ...,\n",
       "        [0.00031653, 0.0003369 , 0.00035856, ..., 0.00037908, 0.00331782,\n",
       "         0.00429532],\n",
       "        [0.00032293, 0.00034414, 0.00036674, ..., 0.00034569, 0.00183045,\n",
       "         0.00400511],\n",
       "        [0.00033014, 0.00035229, 0.00037598, ..., 0.00032818, 0.00094514,\n",
       "         0.00351159]])\n",
       " Coordinates:\n",
       "   * position  (position) float64 1.0 3.0 5.0 7.0 9.0 ... 373.0 375.0 377.0 379.0\n",
       " Dimensions without coordinates: neuron,\n",
       " ('w_track1',\n",
       "  'Inbound'): <xarray.DataArray (position: 162, neuron: 47)>\n",
       " array([[0.00033373, 0.00033628, 0.00034614, ..., 0.00029239, 0.00030304,\n",
       "         0.00023406],\n",
       "        [0.00032067, 0.00032304, 0.00033218, ..., 0.00028215, 0.00029242,\n",
       "         0.0002289 ],\n",
       "        [0.00030926, 0.00031149, 0.00032001, ..., 0.00027318, 0.00028312,\n",
       "         0.00022432],\n",
       "        ...,\n",
       "        [0.00033678, 0.00033936, 0.00034934, ..., 0.00028251, 0.00373936,\n",
       "         0.00353468],\n",
       "        [0.00034402, 0.0003467 , 0.00035712, ..., 0.00027817, 0.00213534,\n",
       "         0.00326625],\n",
       "        [0.00035217, 0.00035497, 0.00036588, ..., 0.00028935, 0.00113509,\n",
       "         0.00284432]])\n",
       " Coordinates:\n",
       "   * position  (position) float64 1.0 3.0 5.0 7.0 9.0 ... 373.0 375.0 377.0 379.0\n",
       " Dimensions without coordinates: neuron}"
      ]
     },
     "execution_count": 290,
     "metadata": {},
     "output_type": "execute_result"
    }
   ],
   "source": [
    "from replay_trajectory_classification.spiking_likelihood import estimate_place_fields\n",
    "\n",
    "environment_names_to_state = ('w_track1', 'w_track1', 'w_track1', 'w_track1')\n",
    "encoding_groups_to_state =   ('Inbound', 'Inbound', 'Outbound', 'Outbound')\n",
    "\n",
    "states = tuple(zip(environment_names_to_state, encoding_groups_to_state))\n",
    "\n",
    "n_time = position_df1.linear_position.values.shape[0]\n",
    "is_training1 = np.ones((n_time,), dtype=bool)\n",
    "encoding_group_labels1 = np.concatenate((np.asarray(['Outbound'] * (n_time//2)), np.asarray(['Inbound'] * (n_time - (n_time//2)))))\n",
    "\n",
    "n_time = position_df2.linear_position.values.shape[0]\n",
    "is_training2 = np.ones((n_time,), dtype=bool)\n",
    "encoding_group_labels2 = np.asarray(['Inbound'] * n_time)\n",
    "\n",
    "training_data = {\n",
    "    'w_track1': (position_df1.linear_position.values[:, np.newaxis], spikes1, is_training1, encoding_group_labels1),\n",
    "    'w_track2': (position_df2.linear_position.values[:, np.newaxis], spikes2, is_training2, encoding_group_labels2),\n",
    "}\n",
    "\n",
    "place_fields = {}\n",
    "for environment_name, encoding_group in set(states):\n",
    "    print(environment_name, encoding_group)\n",
    "    environment = environments[environment_name]\n",
    "    position, spikes, is_training, encoding_group_labels = training_data[environment_name]\n",
    "    \n",
    "    place_fields[(environment_name, encoding_group)] = estimate_place_fields(\n",
    "        position=position[is_training & (encoding_group_labels == encoding_group)],\n",
    "        spikes=spikes[is_training & (encoding_group_labels == encoding_group)],\n",
    "        place_bin_centers=environment.place_bin_centers_,\n",
    "        place_bin_edges=environment.place_bin_edges_,\n",
    "        penalty=1E1,\n",
    "        knot_spacing=10)\n",
    "    \n",
    "place_fields"
   ]
  },
  {
   "cell_type": "code",
   "execution_count": 324,
   "metadata": {},
   "outputs": [
    {
     "name": "stdout",
     "output_type": "stream",
     "text": [
      "w_track2 Outbound\n",
      "w_track2 Inbound\n",
      "w_track1 Outbound\n",
      "w_track1 Inbound\n"
     ]
    },
    {
     "data": {
      "text/plain": [
       "{('w_track2',\n",
       "  'Outbound'): <xarray.DataArray (position: 162, neuron: 47)>\n",
       " array([[0.00031073, 0.00034153, 0.00032491, ..., 0.00020846, 0.00718734,\n",
       "         0.00019873],\n",
       "        [0.00029928, 0.00032797, 0.00031259, ..., 0.00020418, 0.00730743,\n",
       "         0.00019471],\n",
       "        [0.00028926, 0.00031613, 0.00030182, ..., 0.00020037, 0.00703044,\n",
       "         0.00019114],\n",
       "        ...,\n",
       "        [0.00031381, 0.00034476, 0.00032774, ..., 0.00275103, 0.00030333,\n",
       "         0.00019984],\n",
       "        [0.00031998, 0.00035226, 0.00033456, ..., 0.0023325 , 0.00031178,\n",
       "         0.00020191],\n",
       "        [0.00032688, 0.00036071, 0.00034225, ..., 0.00184485, 0.00032135,\n",
       "         0.00020421]])\n",
       " Coordinates:\n",
       "   * position  (position) float64 1.0 3.0 5.0 7.0 9.0 ... 373.0 375.0 377.0 379.0\n",
       " Dimensions without coordinates: neuron,\n",
       " ('w_track2',\n",
       "  'Inbound'): <xarray.DataArray (position: 162, neuron: 47)>\n",
       " array([[0.00036363, 0.00034603, 0.00033502, ..., 0.00022288, 0.00606773,\n",
       "         0.00019682],\n",
       "        [0.00034832, 0.00033216, 0.00032193, ..., 0.0002183 , 0.00618144,\n",
       "         0.00019279],\n",
       "        [0.000335  , 0.00032007, 0.0003105 , ..., 0.00021423, 0.00596262,\n",
       "         0.0001892 ],\n",
       "        ...,\n",
       "        [0.00036683, 0.00034919, 0.00033797, ..., 0.0028019 , 0.0002881 ,\n",
       "         0.00019794],\n",
       "        [0.00037551, 0.00035692, 0.00034526, ..., 0.00276967, 0.0002957 ,\n",
       "         0.00020001],\n",
       "        [0.00038533, 0.00036564, 0.00035348, ..., 0.00261058, 0.00030431,\n",
       "         0.00020232]])\n",
       " Coordinates:\n",
       "   * position  (position) float64 1.0 3.0 5.0 7.0 9.0 ... 373.0 375.0 377.0 379.0\n",
       " Dimensions without coordinates: neuron,\n",
       " ('w_track1',\n",
       "  'Outbound'): <xarray.DataArray (position: 162, neuron: 47)>\n",
       " array([[0.00031373, 0.00033385, 0.00035523, ..., 0.00031344, 0.0003051 ,\n",
       "         0.00024565],\n",
       "        [0.00030206, 0.00032079, 0.0003406 , ..., 0.00030173, 0.00029414,\n",
       "         0.00024004],\n",
       "        [0.00029186, 0.00030939, 0.00032784, ..., 0.00029148, 0.00028454,\n",
       "         0.00023507],\n",
       "        ...,\n",
       "        [0.00031653, 0.0003369 , 0.00035856, ..., 0.00037908, 0.00331782,\n",
       "         0.00429532],\n",
       "        [0.00032293, 0.00034414, 0.00036674, ..., 0.00034569, 0.00183045,\n",
       "         0.00400511],\n",
       "        [0.00033014, 0.00035229, 0.00037598, ..., 0.00032818, 0.00094514,\n",
       "         0.00351159]])\n",
       " Coordinates:\n",
       "   * position  (position) float64 1.0 3.0 5.0 7.0 9.0 ... 373.0 375.0 377.0 379.0\n",
       " Dimensions without coordinates: neuron,\n",
       " ('w_track1',\n",
       "  'Inbound'): <xarray.DataArray (position: 162, neuron: 47)>\n",
       " array([[0.00033373, 0.00033628, 0.00034614, ..., 0.00029239, 0.00030304,\n",
       "         0.00023406],\n",
       "        [0.00032067, 0.00032304, 0.00033218, ..., 0.00028215, 0.00029242,\n",
       "         0.0002289 ],\n",
       "        [0.00030926, 0.00031149, 0.00032001, ..., 0.00027318, 0.00028312,\n",
       "         0.00022432],\n",
       "        ...,\n",
       "        [0.00033678, 0.00033936, 0.00034934, ..., 0.00028251, 0.00373936,\n",
       "         0.00353468],\n",
       "        [0.00034402, 0.0003467 , 0.00035712, ..., 0.00027817, 0.00213534,\n",
       "         0.00326625],\n",
       "        [0.00035217, 0.00035497, 0.00036588, ..., 0.00028935, 0.00113509,\n",
       "         0.00284432]])\n",
       " Coordinates:\n",
       "   * position  (position) float64 1.0 3.0 5.0 7.0 9.0 ... 373.0 375.0 377.0 379.0\n",
       " Dimensions without coordinates: neuron}"
      ]
     },
     "execution_count": 324,
     "metadata": {},
     "output_type": "execute_result"
    }
   ],
   "source": [
    "from replay_trajectory_classification.spiking_likelihood import estimate_place_fields\n",
    "\n",
    "environment_names_to_state = ('w_track1', 'w_track2', 'w_track1', 'w_track2')\n",
    "encoding_groups_to_state =   ('Inbound', 'Inbound', 'Outbound', 'Outbound')\n",
    "\n",
    "states = tuple(zip(environment_names_to_state, encoding_groups_to_state))\n",
    "\n",
    "n_time = position_df1.linear_position.values.shape[0]\n",
    "is_training1 = np.ones((n_time,), dtype=bool)\n",
    "encoding_group_labels1 = np.concatenate((np.asarray(['Outbound'] * (n_time//2)), np.asarray(['Inbound'] * (n_time - (n_time//2)))))\n",
    "environment_labels1 = np.asarray(['w_track1'] * n_time)\n",
    "\n",
    "n_time = position_df2.linear_position.values.shape[0]\n",
    "is_training2 = np.ones((n_time,), dtype=bool)\n",
    "encoding_group_labels2 = np.concatenate((np.asarray(['Outbound'] * (n_time//2)), np.asarray(['Inbound'] * (n_time - (n_time//2)))))\n",
    "environment_labels2 = np.asarray(['w_track2'] * n_time)\n",
    "\n",
    "position = np.concatenate((position_df1.linear_position.values[:, np.newaxis],\n",
    "                           (position_df2.linear_position.values[:, np.newaxis])))\n",
    "spikes = np.concatenate((spikes1, spikes2))\n",
    "is_training = np.concatenate((is_training1, is_training2))\n",
    "encoding_group_labels = np.concatenate((encoding_group_labels1, encoding_group_labels2))\n",
    "environment_labels = np.concatenate((environment_labels1, environment_labels2))\n",
    "\n",
    "\n",
    "place_fields = {}\n",
    "for environment_name, encoding_group in set(states):\n",
    "    print(environment_name, encoding_group)\n",
    "    environment = environments[environment_name]\n",
    "    \n",
    "    is_encoding = (encoding_group_labels == encoding_group)\n",
    "    is_environment = (environment_labels == environment_name)\n",
    "    place_fields[(environment_name, encoding_group)] = estimate_place_fields(\n",
    "        position=position[is_training & is_encoding & is_environment],\n",
    "        spikes=spikes[is_training & is_encoding & is_environment],\n",
    "        place_bin_centers=environment.place_bin_centers_,\n",
    "        place_bin_edges=environment.place_bin_edges_,\n",
    "        penalty=1E1,\n",
    "        knot_spacing=10)\n",
    "    \n",
    "place_fields"
   ]
  },
  {
   "cell_type": "code",
   "execution_count": 312,
   "metadata": {},
   "outputs": [],
   "source": [
    "@dataclass\n",
    "class TrainingData:\n",
    "    environment_name: str = None\n",
    "    position: np.ndarray = None\n",
    "    spikes: np.ndarray = None\n",
    "    multiunit: np.ndarray = None\n",
    "    is_training: np.ndarray = None\n",
    "    encoding_group_labels: np.ndarray = None\n",
    "        \n",
    "\n",
    "@dataclass\n",
    "class PredictData:\n",
    "    position: np.ndarray = None\n",
    "    spikes: np.ndarray = None\n",
    "    multiunit: np.ndarray = None\n",
    "\n",
    "        \n",
    "training_data1 = TrainingData(\n",
    "    environment_name='w_track1',\n",
    "    position=position_df1.linear_position.values[:, np.newaxis],\n",
    "    spikes=spikes1,\n",
    "    is_training=is_training1,\n",
    "    encoding_group_labels=encoding_group_labels1\n",
    ")\n",
    "\n",
    "training_data2 = TrainingData(\n",
    "    environment_name='w_track2',\n",
    "    position=position_df2.linear_position.values[:, np.newaxis],\n",
    "    spikes=spikes2,\n",
    "    is_training=is_training2,\n",
    "    encoding_group_labels=encoding_group_labels2\n",
    ")\n",
    "\n",
    "# or just one long vector of environment, labels, position, spikes"
   ]
  },
  {
   "cell_type": "code",
   "execution_count": 314,
   "metadata": {},
   "outputs": [
    {
     "data": {
      "image/png": "[encoded data removed]",
      "text/plain": [
       "<Figure size 432x288 with 2 Axes>"
      ]
     },
     "metadata": {
      "needs_background": "light"
     },
     "output_type": "display_data"
    }
   ],
   "source": [
    "fig, axes = plt.subplots(2, 1, sharex=True, sharey=True)\n",
    "place_fields['w_track1', 'Inbound'].plot(x='position', hue='neuron', add_legend=False, ax=axes[0]);\n",
    "place_fields['w_track1', 'Outbound'].plot(x='position', hue='neuron', add_legend=False, ax=axes[1]);"
   ]
  },
  {
   "cell_type": "code",
   "execution_count": 286,
   "metadata": {},
   "outputs": [
    {
     "data": {
      "text/plain": [
       "array(['Outbound', 'Outbound', 'Outbound', ..., 'Outbound', 'Outbound',\n",
       "       'Outbound'], dtype='<U8')"
      ]
     },
     "execution_count": 286,
     "metadata": {},
     "output_type": "execute_result"
    }
   ],
   "source": [
    "encoding_group_labels"
   ]
  },
  {
   "cell_type": "code",
   "execution_count": null,
   "metadata": {},
   "outputs": [],
   "source": [
    "def fit_place_fields(self, position, spikes, is_training=None,\n",
    "                     encoding_group_labels=None,\n",
    "                     encoding_group_to_state=None):\n",
    "    logger.info('Fitting place fields...')\n",
    "    if is_training is None:\n",
    "        n_time = position.shape[0]\n",
    "        is_training = np.ones((n_time,), dtype=bool)\n",
    "\n",
    "    if encoding_group_labels is None:\n",
    "        n_time = position.shape[0]\n",
    "        encoding_group_labels = np.zeros((n_time,), dtype=np.int32)\n",
    "\n",
    "    if encoding_group_to_state is None:\n",
    "        n_states = len(self.continuous_transition_types)\n",
    "        self.encoding_group_to_state_ = np.zeros(\n",
    "            (n_states,), dtype=np.int32)\n",
    "    else:\n",
    "        self.encoding_group_to_state_ = np.asarray(encoding_group_to_state)\n",
    "\n",
    "    is_training = np.asarray(is_training).squeeze()\n",
    "    self.place_fields_ = []\n",
    "    unique_labels = np.unique(encoding_group_labels[is_training])\n",
    "    for encoding_group in unique_labels:\n",
    "        self.place_fields_.append(estimate_place_fields(\n",
    "            position=position[is_training & (\n",
    "                encoding_group_labels == encoding_group)],\n",
    "            spikes=spikes[is_training & (\n",
    "                encoding_group_labels == encoding_group)],\n",
    "            place_bin_centers=self.place_bin_centers_,\n",
    "            place_bin_edges=self.place_bin_edges_,\n",
    "            penalty=self.spike_model_penalty,\n",
    "            knot_spacing=self.knot_spacing))"
   ]
  },
  {
   "cell_type": "code",
   "execution_count": null,
   "metadata": {},
   "outputs": [],
   "source": [
    "# how specify training data\n",
    "# how to incorporate local states\n",
    "# adding information by multiplying likelihoods (LFPs)"
   ]
  },
  {
   "cell_type": "code",
   "execution_count": 331,
   "metadata": {},
   "outputs": [
    {
     "data": {
      "text/plain": [
       "[[1, 2, 3], [4, 5, 6], [7, 8, 9]]"
      ]
     },
     "execution_count": 331,
     "metadata": {},
     "output_type": "execute_result"
    }
   ],
   "source": [
    "argh = [[1, 2, 3],\n",
    "        [4, 5, 6],\n",
    "        [7, 8, 9]]\n",
    "blah = []\n",
    "\n",
    "for row in argh:\n",
    "    blah.append([])\n",
    "    for column in row:\n",
    "        blah[-1].append(column)\n",
    "blah"
   ]
  },
  {
   "cell_type": "code",
   "execution_count": null,
   "metadata": {},
   "outputs": [],
   "source": []
  }
 ],
 "metadata": {
  "kernelspec": {
   "display_name": "Python [conda env:replay_trajectory_classification] *",
   "language": "python",
   "name": "conda-env-replay_trajectory_classification-py"
  },
  "language_info": {
   "codemirror_mode": {
    "name": "ipython",
    "version": 3
   },
   "file_extension": ".py",
   "mimetype": "text/x-python",
   "name": "python",
   "nbconvert_exporter": "python",
   "pygments_lexer": "ipython3",
   "version": "3.8.12"
  }
 },
 "nbformat": 4,
 "nbformat_minor": 4
}
