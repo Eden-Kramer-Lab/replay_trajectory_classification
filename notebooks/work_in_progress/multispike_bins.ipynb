{
 "cells": [
  {
   "cell_type": "code",
   "execution_count": 1,
   "metadata": {},
   "outputs": [],
   "source": [
    "import numpy as np\n",
    "\n",
    "n_time = 1000\n",
    "n_position_bins = 2000\n",
    "\n",
    "log_likelihood = np.zeros((n_time, n_position_bins))\n",
    "is_track_interior = np.ones((n_position_bins,), dtype=bool)\n",
    "is_track_interior[100] = False\n"
   ]
  },
  {
   "cell_type": "code",
   "execution_count": 2,
   "metadata": {},
   "outputs": [
    {
     "data": {
      "text/plain": [
       "array([[1., 1., 1., ..., 1., 1., 1.],\n",
       "       [2., 2., 2., ..., 2., 2., 2.],\n",
       "       [3., 3., 3., ..., 3., 3., 3.],\n",
       "       [4., 4., 4., ..., 4., 4., 4.]])"
      ]
     },
     "execution_count": 2,
     "metadata": {},
     "output_type": "execute_result"
    }
   ],
   "source": [
    "n_spikes = 4\n",
    "joint_mark_intensity = 1 + np.arange(n_spikes)[:, np.newaxis] * np.ones(\n",
    "    (1, is_track_interior.sum())\n",
    ")\n",
    "joint_mark_intensity\n"
   ]
  },
  {
   "cell_type": "code",
   "execution_count": 3,
   "metadata": {},
   "outputs": [],
   "source": [
    "spike_ind = [1, 5, 5, 6]\n"
   ]
  },
  {
   "cell_type": "code",
   "execution_count": 4,
   "metadata": {},
   "outputs": [
    {
     "data": {
      "text/plain": [
       "array([[0., 0., 0., ..., 0., 0., 0.],\n",
       "       [1., 1., 1., ..., 1., 1., 1.],\n",
       "       [0., 0., 0., ..., 0., 0., 0.],\n",
       "       ...,\n",
       "       [0., 0., 0., ..., 0., 0., 0.],\n",
       "       [0., 0., 0., ..., 0., 0., 0.],\n",
       "       [0., 0., 0., ..., 0., 0., 0.]])"
      ]
     },
     "execution_count": 4,
     "metadata": {},
     "output_type": "execute_result"
    }
   ],
   "source": [
    "true_log_likelihood = np.zeros((n_time, n_position_bins))\n",
    "true_log_likelihood[1] = 1\n",
    "true_log_likelihood[5] = 5\n",
    "true_log_likelihood[6] = 4\n",
    "true_log_likelihood[:, ~is_track_interior] = 0\n",
    "true_log_likelihood\n"
   ]
  },
  {
   "cell_type": "markdown",
   "metadata": {},
   "source": [
    "### Option 1 - iterate over position bins, use bin count and stack"
   ]
  },
  {
   "cell_type": "code",
   "execution_count": 5,
   "metadata": {},
   "outputs": [],
   "source": [
    "log_likelihood[:, is_track_interior] += np.stack(\n",
    "    [\n",
    "        np.bincount(spike_ind, weights=jmi, minlength=log_likelihood.shape[0])\n",
    "        for jmi in joint_mark_intensity.T\n",
    "    ],\n",
    "    axis=1,\n",
    ")\n"
   ]
  },
  {
   "cell_type": "code",
   "execution_count": 6,
   "metadata": {},
   "outputs": [
    {
     "name": "stdout",
     "output_type": "stream",
     "text": [
      "21.8 ms ± 5.42 ms per loop (mean ± std. dev. of 7 runs, 10 loops each)\n"
     ]
    }
   ],
   "source": [
    "%%timeit\n",
    "\n",
    "np.stack([np.bincount(spike_ind, weights=jmi, minlength=log_likelihood.shape[0]) for jmi in joint_mark_intensity.T], axis=1)"
   ]
  },
  {
   "cell_type": "code",
   "execution_count": 7,
   "metadata": {},
   "outputs": [],
   "source": [
    "assert np.allclose(log_likelihood, true_log_likelihood)\n"
   ]
  },
  {
   "cell_type": "markdown",
   "metadata": {},
   "source": [
    "### Option 2 - use magical csr matrix incantation"
   ]
  },
  {
   "cell_type": "code",
   "execution_count": 8,
   "metadata": {},
   "outputs": [],
   "source": [
    "log_likelihood = np.zeros((n_time, n_position_bins))\n"
   ]
  },
  {
   "cell_type": "code",
   "execution_count": 9,
   "metadata": {},
   "outputs": [],
   "source": [
    "from scipy.sparse import csr_matrix\n",
    "\n",
    "# https://stackoverflow.com/questions/5205345/using-numpy-bincount-with-array-weights\n",
    "\n",
    "log_likelihood[: np.max(spike_ind) + 1, is_track_interior] += (\n",
    "    csr_matrix((np.ones((n_spikes,)), (spike_ind, np.arange(n_spikes))))\n",
    "    * joint_mark_intensity\n",
    ")\n"
   ]
  },
  {
   "cell_type": "code",
   "execution_count": 10,
   "metadata": {},
   "outputs": [
    {
     "name": "stdout",
     "output_type": "stream",
     "text": [
      "267 µs ± 33.6 µs per loop (mean ± std. dev. of 7 runs, 1,000 loops each)\n"
     ]
    }
   ],
   "source": [
    "%%timeit\n",
    "\n",
    "csr_matrix((np.ones((n_spikes,)), (spike_ind, np.arange(n_spikes)))) * joint_mark_intensity"
   ]
  },
  {
   "cell_type": "code",
   "execution_count": 11,
   "metadata": {},
   "outputs": [],
   "source": [
    "assert np.allclose(log_likelihood, true_log_likelihood)\n"
   ]
  },
  {
   "cell_type": "code",
   "execution_count": 12,
   "metadata": {},
   "outputs": [
    {
     "data": {
      "text/plain": [
       "array([[0., 0., 0., ..., 0., 0., 0.],\n",
       "       [1., 1., 1., ..., 1., 1., 1.],\n",
       "       [0., 0., 0., ..., 0., 0., 0.],\n",
       "       ...,\n",
       "       [0., 0., 0., ..., 0., 0., 0.],\n",
       "       [0., 0., 0., ..., 0., 0., 0.],\n",
       "       [0., 0., 0., ..., 0., 0., 0.]])"
      ]
     },
     "execution_count": 12,
     "metadata": {},
     "output_type": "execute_result"
    }
   ],
   "source": [
    "log_likelihood\n"
   ]
  },
  {
   "cell_type": "code",
   "execution_count": 13,
   "metadata": {},
   "outputs": [
    {
     "data": {
      "text/plain": [
       "array([[0., 0., 0., ..., 0., 0., 0.],\n",
       "       [1., 1., 1., ..., 1., 1., 1.],\n",
       "       [0., 0., 0., ..., 0., 0., 0.],\n",
       "       ...,\n",
       "       [0., 0., 0., ..., 0., 0., 0.],\n",
       "       [0., 0., 0., ..., 0., 0., 0.],\n",
       "       [0., 0., 0., ..., 0., 0., 0.]])"
      ]
     },
     "execution_count": 13,
     "metadata": {},
     "output_type": "execute_result"
    }
   ],
   "source": [
    "true_log_likelihood\n"
   ]
  },
  {
   "cell_type": "code",
   "execution_count": 14,
   "metadata": {},
   "outputs": [
    {
     "data": {
      "text/plain": [
       "array([[0., 0., 0., 0.],\n",
       "       [1., 0., 0., 0.],\n",
       "       [0., 0., 0., 0.],\n",
       "       [0., 0., 0., 0.],\n",
       "       [0., 0., 0., 0.],\n",
       "       [0., 1., 1., 0.],\n",
       "       [0., 0., 0., 1.]])"
      ]
     },
     "execution_count": 14,
     "metadata": {},
     "output_type": "execute_result"
    }
   ],
   "source": [
    "blah = csr_matrix((np.ones((n_spikes,)), (spike_ind, np.arange(n_spikes))))\n",
    "\n",
    "blah.toarray()\n"
   ]
  },
  {
   "cell_type": "markdown",
   "metadata": {},
   "source": [
    "### Finding spike time ind"
   ]
  },
  {
   "cell_type": "code",
   "execution_count": 15,
   "metadata": {},
   "outputs": [
    {
     "data": {
      "text/plain": [
       "array([0, 0, 0, 1, 3, 3, 3])"
      ]
     },
     "execution_count": 15,
     "metadata": {},
     "output_type": "execute_result"
    }
   ],
   "source": [
    "time = np.arange(5)\n",
    "\n",
    "spike_times = np.asarray([-0.5, 0.0, 0.5, 0.5, 1.5, 3.5, 3.9, 4.0, 4.5])\n",
    "spike_features = np.ones((len(spike_times), 4))\n",
    "\n",
    "\n",
    "is_in_time_bounds = (spike_times >= time.min()) & (spike_times <= time.max())\n",
    "\n",
    "spike_times = spike_times[is_in_time_bounds]\n",
    "spike_features = spike_features[is_in_time_bounds]\n",
    "spike_time_ind = np.digitize(spike_times, time[1:-1])\n",
    "spike_time_ind\n"
   ]
  },
  {
   "cell_type": "code",
   "execution_count": 16,
   "metadata": {},
   "outputs": [
    {
     "data": {
      "text/plain": [
       "array([0, 0, 0, 1, 3, 3, 3])"
      ]
     },
     "execution_count": 16,
     "metadata": {},
     "output_type": "execute_result"
    }
   ],
   "source": [
    "time[np.digitize(spike_times, time[1:-1])]\n"
   ]
  },
  {
   "cell_type": "code",
   "execution_count": 17,
   "metadata": {},
   "outputs": [
    {
     "data": {
      "text/plain": [
       "array([0, 1, 2, 3, 4])"
      ]
     },
     "execution_count": 17,
     "metadata": {},
     "output_type": "execute_result"
    }
   ],
   "source": [
    "time\n"
   ]
  },
  {
   "cell_type": "code",
   "execution_count": 18,
   "metadata": {},
   "outputs": [
    {
     "data": {
      "text/plain": [
       "array([0.   , 0.002, 0.004, 0.006, 0.008, 0.01 , 0.012, 0.014, 0.016,\n",
       "       0.018, 0.02 , 0.022, 0.024, 0.026, 0.028, 0.03 , 0.032, 0.034,\n",
       "       0.036, 0.038, 0.04 , 0.042, 0.044, 0.046, 0.048, 0.05 , 0.052,\n",
       "       0.054, 0.056, 0.058, 0.06 , 0.062, 0.064, 0.066, 0.068, 0.07 ,\n",
       "       0.072, 0.074, 0.076, 0.078, 0.08 , 0.082, 0.084, 0.086, 0.088,\n",
       "       0.09 , 0.092, 0.094, 0.096, 0.098, 0.1  , 0.102])"
      ]
     },
     "execution_count": 18,
     "metadata": {},
     "output_type": "execute_result"
    }
   ],
   "source": [
    "start_time = 0.000\n",
    "end_time = 0.102\n",
    "\n",
    "sampling_frequency = 500\n",
    "\n",
    "n_time_steps = int(np.ceil((end_time - start_time) * sampling_frequency)) + 1\n",
    "time = start_time + np.arange(n_time_steps) / sampling_frequency\n",
    "time\n"
   ]
  },
  {
   "cell_type": "code",
   "execution_count": 19,
   "metadata": {},
   "outputs": [],
   "source": [
    "def make_time(start_time, end_time, sampling_frequency=500):\n",
    "    n_time_steps = int(np.ceil((end_time - start_time) * sampling_frequency)) + 1\n",
    "    return start_time + np.arange(n_time_steps) / sampling_frequency\n",
    "\n",
    "\n",
    "def get_spike_time_ind(spike_times, spike_features, time):\n",
    "    is_in_time_bounds = (spike_times >= time.min()) & (spike_times <= time.max())\n",
    "\n",
    "    spike_times = spike_times[is_in_time_bounds]\n",
    "    spike_features = spike_features[is_in_time_bounds]\n",
    "\n",
    "    spike_time_ind = np.digitize(spike_times, time[1:-1])\n",
    "\n",
    "    return spike_time_ind, spike_times, spike_features\n"
   ]
  },
  {
   "cell_type": "code",
   "execution_count": 20,
   "metadata": {},
   "outputs": [
    {
     "data": {
      "text/plain": [
       "array([0, 3, 3, 3])"
      ]
     },
     "execution_count": 20,
     "metadata": {},
     "output_type": "execute_result"
    }
   ],
   "source": [
    "time = make_time(0.002, 0.010)\n",
    "\n",
    "spike_times = np.asarray([-0.5, 0.002, 0.008, 0.008, 0.010, 0.012])\n",
    "spike_features = np.ones((len(spike_times), 4))\n",
    "\n",
    "spike_time_ind, spike_times, spike_features = get_spike_time_ind(\n",
    "    spike_times, spike_features, time\n",
    ")\n",
    "\n",
    "spike_time_ind\n"
   ]
  },
  {
   "cell_type": "code",
   "execution_count": 21,
   "metadata": {},
   "outputs": [
    {
     "data": {
      "text/plain": [
       "array([0.002, 0.008, 0.008, 0.008])"
      ]
     },
     "execution_count": 21,
     "metadata": {},
     "output_type": "execute_result"
    }
   ],
   "source": [
    "time[spike_time_ind]\n"
   ]
  },
  {
   "cell_type": "code",
   "execution_count": 22,
   "metadata": {},
   "outputs": [
    {
     "data": {
      "text/plain": [
       "array([[0.1, 9.9],\n",
       "       [5.5, 4.5],\n",
       "       [7.5, 2.5]])"
      ]
     },
     "execution_count": 22,
     "metadata": {},
     "output_type": "execute_result"
    }
   ],
   "source": [
    "from scipy.interpolate import interp1d\n",
    "import matplotlib.pyplot as plt\n",
    "\n",
    "\n",
    "def get_position_at_spike_times(position_time, position, spike_times):\n",
    "    position_interpolater = [interp1d(position_time, pos) for pos in position.T]\n",
    "\n",
    "    return np.stack([interp(spike_times) for interp in position_interpolater], axis=1)\n",
    "\n",
    "\n",
    "position_time = np.arange(10)\n",
    "position = np.stack((np.arange(10), np.arange(10, 0, -1)), axis=1)\n",
    "\n",
    "spike_times = np.asarray([0.1, 5.5, 7.5])\n",
    "\n",
    "get_position_at_spike_times(position_time, position, spike_times)\n"
   ]
  },
  {
   "cell_type": "markdown",
   "metadata": {},
   "source": [
    "#### for 1D project to 2D and find closest point?\n"
   ]
  },
  {
   "cell_type": "code",
   "execution_count": 23,
   "metadata": {},
   "outputs": [
    {
     "data": {
      "image/png": "[encoded data removed]",
      "text/plain": [
       "<Figure size 640x480 with 1 Axes>"
      ]
     },
     "metadata": {},
     "output_type": "display_data"
    },
    {
     "data": {
      "image/png": "[encoded data removed]",
      "text/plain": [
       "<Figure size 640x480 with 1 Axes>"
      ]
     },
     "metadata": {},
     "output_type": "display_data"
    },
    {
     "data": {
      "image/png": "[encoded data removed]",
      "text/plain": [
       "<Figure size 700x100 with 1 Axes>"
      ]
     },
     "metadata": {},
     "output_type": "display_data"
    }
   ],
   "source": [
    "from track_linearization import (\n",
    "    make_track_graph,\n",
    "    plot_track_graph,\n",
    "    plot_graph_as_1D,\n",
    "    get_linearized_position,\n",
    ")\n",
    "import matplotlib.pyplot as plt\n",
    "\n",
    "import numpy as np\n",
    "from scipy.stats import multivariate_normal\n",
    "\n",
    "node_positions = [(0, 0), (30, 0), (30, 30), (0, 30), (15, 30), (15, 0)]\n",
    "\n",
    "edges = [\n",
    "    (3, 0),\n",
    "    (0, 5),\n",
    "    (4, 5),\n",
    "    (5, 1),\n",
    "    (1, 2),\n",
    "]\n",
    "\n",
    "track_graph = make_track_graph(node_positions, edges)\n",
    "\n",
    "fig, ax = plt.subplots()\n",
    "plot_track_graph(track_graph, ax=ax, draw_edge_labels=True)\n",
    "ax.tick_params(left=True, bottom=True, labelleft=True, labelbottom=True)\n",
    "ax.set_xlabel(\"x-position\")\n",
    "ax.set_ylabel(\"y-position\")\n",
    "ax.spines[\"top\"].set_visible(False)\n",
    "ax.spines[\"right\"].set_visible(False)\n",
    "\n",
    "fig, ax = plt.subplots()\n",
    "plot_track_graph(track_graph, ax=ax, draw_edge_labels=True)\n",
    "ax.tick_params(left=True, bottom=True, labelleft=True, labelbottom=True)\n",
    "ax.set_xlabel(\"x-position\")\n",
    "ax.set_ylabel(\"y-position\")\n",
    "ax.spines[\"top\"].set_visible(False)\n",
    "ax.spines[\"right\"].set_visible(False)\n",
    "\n",
    "x = np.linspace(0, 30)\n",
    "\n",
    "position = np.concatenate(\n",
    "    (\n",
    "        np.stack((np.zeros_like(x), x[::-1]), axis=1),\n",
    "        np.stack((x, np.zeros_like(x)), axis=1),\n",
    "        np.stack((np.ones_like(x) * 30, x), axis=1),\n",
    "    )\n",
    ")\n",
    "position += multivariate_normal(mean=0, cov=0.05).rvs(position.shape)\n",
    "\n",
    "plt.scatter(position[:50, 0], position[:50, 1], s=10, zorder=11)\n",
    "plt.scatter(position[50:100, 0], position[50:100, 1], s=10, zorder=11)\n",
    "plt.scatter(position[100:, 0], position[100:, 1], s=10, zorder=11)\n",
    "\n",
    "\n",
    "edge_order = [(4, 5), (5, 1), (1, 2), (5, 0), (0, 3)]\n",
    "edge_spacing = [15, 0, 15, 0]\n",
    "\n",
    "fig, ax = plt.subplots(figsize=(7, 1))\n",
    "plot_graph_as_1D(\n",
    "    track_graph,\n",
    "    edge_spacing=edge_spacing,\n",
    "    edge_order=edge_order,\n",
    "    ax=ax,\n",
    "    draw_edge_labels=True,\n",
    ")\n"
   ]
  },
  {
   "cell_type": "code",
   "execution_count": 24,
   "metadata": {},
   "outputs": [],
   "source": [
    "# determine edge\n",
    "# find point on line between nodes 2D position\n"
   ]
  },
  {
   "cell_type": "code",
   "execution_count": 25,
   "metadata": {},
   "outputs": [],
   "source": [
    "def get_projected_position(\n",
    "    start_node_2D_position: np.ndarray,\n",
    "    end_node_2D_position: np.ndarray,\n",
    "    distance_from_start_node: np.ndarray,\n",
    ") -> np.ndarray:\n",
    "    angle = np.arctan2(\n",
    "        end_node_2D_position[:, 1] - start_node_2D_position[:, 1],\n",
    "        end_node_2D_position[:, 0] - start_node_2D_position[:, 0],\n",
    "    )\n",
    "    return np.stack(\n",
    "        [\n",
    "            start_node_2D_position[:, 0] + distance_from_start_node * np.cos(angle),\n",
    "            start_node_2D_position[:, 1] + distance_from_start_node * np.sin(angle),\n",
    "        ],\n",
    "        axis=1,\n",
    "    )\n"
   ]
  },
  {
   "cell_type": "code",
   "execution_count": 26,
   "metadata": {},
   "outputs": [
    {
     "data": {
      "text/html": [
       "<div>\n",
       "<style scoped>\n",
       "    .dataframe tbody tr th:only-of-type {\n",
       "        vertical-align: middle;\n",
       "    }\n",
       "\n",
       "    .dataframe tbody tr th {\n",
       "        vertical-align: top;\n",
       "    }\n",
       "\n",
       "    .dataframe thead th {\n",
       "        text-align: right;\n",
       "    }\n",
       "</style>\n",
       "<table border=\"1\" class=\"dataframe\">\n",
       "  <thead>\n",
       "    <tr style=\"text-align: right;\">\n",
       "      <th></th>\n",
       "      <th>edge_id</th>\n",
       "      <th>start_node_2D_position</th>\n",
       "      <th>end_node_2D_position</th>\n",
       "      <th>start_node_linear_position</th>\n",
       "      <th>end_node_linear_position</th>\n",
       "      <th>edge_order</th>\n",
       "      <th>start_nodes</th>\n",
       "      <th>end_nodes</th>\n",
       "      <th>distance</th>\n",
       "    </tr>\n",
       "  </thead>\n",
       "  <tbody>\n",
       "    <tr>\n",
       "      <th>0</th>\n",
       "      <td>4</td>\n",
       "      <td>(15, 30)</td>\n",
       "      <td>(15, 0)</td>\n",
       "      <td>0.0</td>\n",
       "      <td>30.0</td>\n",
       "      <td>(4, 5)</td>\n",
       "      <td>4</td>\n",
       "      <td>5</td>\n",
       "      <td>30.0</td>\n",
       "    </tr>\n",
       "    <tr>\n",
       "      <th>1</th>\n",
       "      <td>2</td>\n",
       "      <td>(15, 0)</td>\n",
       "      <td>(30, 0)</td>\n",
       "      <td>45.0</td>\n",
       "      <td>60.0</td>\n",
       "      <td>(5, 1)</td>\n",
       "      <td>5</td>\n",
       "      <td>1</td>\n",
       "      <td>15.0</td>\n",
       "    </tr>\n",
       "    <tr>\n",
       "      <th>2</th>\n",
       "      <td>3</td>\n",
       "      <td>(30, 0)</td>\n",
       "      <td>(30, 30)</td>\n",
       "      <td>60.0</td>\n",
       "      <td>90.0</td>\n",
       "      <td>(1, 2)</td>\n",
       "      <td>1</td>\n",
       "      <td>2</td>\n",
       "      <td>30.0</td>\n",
       "    </tr>\n",
       "    <tr>\n",
       "      <th>3</th>\n",
       "      <td>1</td>\n",
       "      <td>(15, 0)</td>\n",
       "      <td>(0, 0)</td>\n",
       "      <td>105.0</td>\n",
       "      <td>120.0</td>\n",
       "      <td>(5, 0)</td>\n",
       "      <td>5</td>\n",
       "      <td>0</td>\n",
       "      <td>15.0</td>\n",
       "    </tr>\n",
       "    <tr>\n",
       "      <th>4</th>\n",
       "      <td>0</td>\n",
       "      <td>(0, 0)</td>\n",
       "      <td>(0, 30)</td>\n",
       "      <td>120.0</td>\n",
       "      <td>150.0</td>\n",
       "      <td>(0, 3)</td>\n",
       "      <td>0</td>\n",
       "      <td>3</td>\n",
       "      <td>30.0</td>\n",
       "    </tr>\n",
       "  </tbody>\n",
       "</table>\n",
       "</div>"
      ],
      "text/plain": [
       "   edge_id start_node_2D_position end_node_2D_position  \\\n",
       "0        4               (15, 30)              (15, 0)   \n",
       "1        2                (15, 0)              (30, 0)   \n",
       "2        3                (30, 0)             (30, 30)   \n",
       "3        1                (15, 0)               (0, 0)   \n",
       "4        0                 (0, 0)              (0, 30)   \n",
       "\n",
       "   start_node_linear_position  end_node_linear_position edge_order  \\\n",
       "0                         0.0                      30.0     (4, 5)   \n",
       "1                        45.0                      60.0     (5, 1)   \n",
       "2                        60.0                      90.0     (1, 2)   \n",
       "3                       105.0                     120.0     (5, 0)   \n",
       "4                       120.0                     150.0     (0, 3)   \n",
       "\n",
       "   start_nodes  end_nodes  distance  \n",
       "0            4          5      30.0  \n",
       "1            5          1      15.0  \n",
       "2            1          2      30.0  \n",
       "3            5          0      15.0  \n",
       "4            0          3      30.0  "
      ]
     },
     "execution_count": 26,
     "metadata": {},
     "output_type": "execute_result"
    }
   ],
   "source": [
    "import pandas as pd\n",
    "\n",
    "edge_id = []\n",
    "start_node_2D_position = []\n",
    "end_node_2D_position = []\n",
    "start_node_linear_position = []\n",
    "end_node_linear_position = []\n",
    "start_nodes = []\n",
    "end_nodes = []\n",
    "distance = []\n",
    "\n",
    "counter = 0.0\n",
    "\n",
    "for edge_ind, (start_node, end_node) in enumerate(edge_order):\n",
    "    edge_id.append(track_graph.edges[(start_node, end_node)][\"edge_id\"])\n",
    "    start_node_2D_position.append(track_graph.nodes[start_node][\"pos\"])\n",
    "    end_node_2D_position.append(track_graph.nodes[end_node][\"pos\"])\n",
    "    start_node_linear_position.append(counter)\n",
    "    end_node_linear_position.append(\n",
    "        counter + track_graph.edges[(start_node, end_node)][\"distance\"]\n",
    "    )\n",
    "    start_nodes.append(start_node)\n",
    "    end_nodes.append(end_node)\n",
    "    distance.append(track_graph.edges[(start_node, end_node)][\"distance\"])\n",
    "\n",
    "    try:\n",
    "        counter += (\n",
    "            track_graph.edges[(start_node, end_node)][\"distance\"]\n",
    "            + edge_spacing[edge_ind]\n",
    "        )\n",
    "    except IndexError:\n",
    "        pass\n",
    "\n",
    "pd.DataFrame(\n",
    "    {\n",
    "        \"edge_id\": edge_id,\n",
    "        \"start_node_2D_position\": start_node_2D_position,\n",
    "        \"end_node_2D_position\": end_node_2D_position,\n",
    "        \"start_node_linear_position\": start_node_linear_position,\n",
    "        \"end_node_linear_position\": end_node_linear_position,\n",
    "        \"edge_order\": edge_order,\n",
    "        \"start_nodes\": start_nodes,\n",
    "        \"end_nodes\": end_nodes,\n",
    "        \"distance\": distance,\n",
    "    }\n",
    ")\n"
   ]
  },
  {
   "cell_type": "code",
   "execution_count": 27,
   "metadata": {},
   "outputs": [
    {
     "data": {
      "text/plain": [
       "<matplotlib.collections.PathCollection at 0x7f84aed68be0>"
      ]
     },
     "execution_count": 27,
     "metadata": {},
     "output_type": "execute_result"
    },
    {
     "data": {
      "image/png": "[encoded data removed]",
      "text/plain": [
       "<Figure size 1200x1100 with 1 Axes>"
      ]
     },
     "metadata": {},
     "output_type": "display_data"
    }
   ],
   "source": [
    "def get_2D_position_from_1D_position(\n",
    "    linear_position, track_graph, edge_order, edge_spacing\n",
    "):\n",
    "\n",
    "    projected_position = np.zeros((linear_position.shape[0], 2))\n",
    "\n",
    "    start_node_linear_position = 0.0\n",
    "\n",
    "    for ind, (start_node, end_node) in enumerate(edge_order):\n",
    "\n",
    "        end_node_linear_position = (\n",
    "            start_node_linear_position\n",
    "            + track_graph.edges[(start_node, end_node)][\"distance\"]\n",
    "        )\n",
    "\n",
    "        is_edge = (linear_position >= start_node_linear_position) & (\n",
    "            linear_position <= end_node_linear_position\n",
    "        )\n",
    "\n",
    "        start_node_2D_position = track_graph.nodes[start_node][\"pos\"]\n",
    "        end_node_2D_position = track_graph.nodes[end_node][\"pos\"]\n",
    "\n",
    "        distance_from_start_node = linear_position[is_edge] - start_node_linear_position\n",
    "\n",
    "        projected_position[is_edge] = get_projected_position(\n",
    "            np.asarray(start_node_2D_position)[np.newaxis],\n",
    "            np.asarray(end_node_2D_position)[np.newaxis],\n",
    "            distance_from_start_node,\n",
    "        )\n",
    "\n",
    "        try:\n",
    "            start_node_linear_position = end_node_linear_position + edge_spacing[ind]\n",
    "        except IndexError:\n",
    "            pass\n",
    "\n",
    "    return projected_position\n",
    "\n",
    "\n",
    "position_df = get_linearized_position(\n",
    "    position=position,\n",
    "    track_graph=track_graph,\n",
    "    edge_spacing=edge_spacing,\n",
    "    edge_order=edge_order,\n",
    "    use_HMM=False,\n",
    ")\n",
    "\n",
    "linear_position = np.asarray(position_df.linear_position)\n",
    "projected_position = get_2D_position_from_1D_position(\n",
    "    linear_position, track_graph, edge_order, edge_spacing\n",
    ")\n",
    "\n",
    "plt.figure(figsize=(12, 11))\n",
    "plt.scatter(position[:, 0], position[:, 1], s=5)\n",
    "plt.scatter(projected_position[:, 0], projected_position[:, 1], s=5)\n"
   ]
  },
  {
   "cell_type": "code",
   "execution_count": 30,
   "metadata": {},
   "outputs": [
    {
     "data": {
      "text/plain": [
       "True"
      ]
     },
     "execution_count": 30,
     "metadata": {},
     "output_type": "execute_result"
    }
   ],
   "source": [
    "# project 1D position to 2D\n",
    "position_time = np.arange(len(linear_position)) / 30\n",
    "spike_times = position_time.copy()\n",
    "# interpolate points\n",
    "projected_position = get_2D_position_from_1D_position(\n",
    "    linear_position, track_graph, edge_order, edge_spacing\n",
    ")\n",
    "position2D_at_spike_times = get_position_at_spike_times(\n",
    "    position_time, projected_position, spike_times\n",
    ")\n",
    "# project back to 1D\n",
    "position1D_at_spike_times = get_linearized_position(\n",
    "    position=position2D_at_spike_times,\n",
    "    track_graph=track_graph,\n",
    "    edge_spacing=edge_spacing,\n",
    "    edge_order=edge_order,\n",
    "    use_HMM=False,\n",
    ").linear_position.to_numpy()\n",
    "\n",
    "np.allclose(position1D_at_spike_times, linear_position)\n"
   ]
  },
  {
   "cell_type": "code",
   "execution_count": 32,
   "metadata": {},
   "outputs": [
    {
     "data": {
      "text/plain": [
       "array([148.12565892, 146.42133104])"
      ]
     },
     "execution_count": 32,
     "metadata": {},
     "output_type": "execute_result"
    }
   ],
   "source": [
    "def get_1D_position_at_spike_times(\n",
    "    spike_times, position_time, linear_position, track_graph, edge_order, edge_spacing\n",
    "):\n",
    "    # interpolate points\n",
    "    projected_position = get_2D_position_from_1D_position(\n",
    "        linear_position, track_graph, edge_order, edge_spacing\n",
    "    )\n",
    "    position2D_at_spike_times = get_position_at_spike_times(\n",
    "        position_time, projected_position, spike_times\n",
    "    )\n",
    "    # project back to 1D\n",
    "    return get_linearized_position(\n",
    "        position=position2D_at_spike_times,\n",
    "        track_graph=track_graph,\n",
    "        edge_spacing=edge_spacing,\n",
    "        edge_order=edge_order,\n",
    "        use_HMM=False,\n",
    "    ).linear_position.to_numpy()\n",
    "\n",
    "\n",
    "get_1D_position_at_spike_times(\n",
    "    [0.1, 0.2], position_time, linear_position, track_graph, edge_order, edge_spacing\n",
    ")\n"
   ]
  },
  {
   "cell_type": "code",
   "execution_count": null,
   "metadata": {},
   "outputs": [],
   "source": []
  }
 ],
 "metadata": {
  "kernelspec": {
   "display_name": "Python 3.8.13 ('replay_trajectory_classification')",
   "language": "python",
   "name": "python3"
  },
  "language_info": {
   "codemirror_mode": {
    "name": "ipython",
    "version": 3
   },
   "file_extension": ".py",
   "mimetype": "text/x-python",
   "name": "python",
   "nbconvert_exporter": "python",
   "pygments_lexer": "ipython3",
   "version": "3.8.13"
  },
  "orig_nbformat": 4,
  "vscode": {
   "interpreter": {
    "hash": "4a7f66fcc594c8d455cfdc63d8322c72751e859b788d96111d5579960745f043"
   }
  }
 },
 "nbformat": 4,
 "nbformat_minor": 2
}
