{
 "cells": [
  {
   "cell_type": "code",
   "execution_count": 1,
   "metadata": {},
   "outputs": [],
   "source": [
    "import numpy as np\n",
    "\n",
    "n_time = 1000\n",
    "n_position_bins = 2000\n",
    "\n",
    "log_likelihood = np.zeros((n_time, n_position_bins))\n"
   ]
  },
  {
   "cell_type": "code",
   "execution_count": 2,
   "metadata": {},
   "outputs": [
    {
     "data": {
      "text/plain": [
       "array([[1., 1., 1., ..., 1., 1., 1.],\n",
       "       [2., 2., 2., ..., 2., 2., 2.],\n",
       "       [3., 3., 3., ..., 3., 3., 3.],\n",
       "       [4., 4., 4., ..., 4., 4., 4.]])"
      ]
     },
     "execution_count": 2,
     "metadata": {},
     "output_type": "execute_result"
    }
   ],
   "source": [
    "n_spikes = 4\n",
    "joint_mark_intensity = 1 + np.arange(n_spikes)[:, np.newaxis] * np.ones(\n",
    "    (1, n_position_bins)\n",
    ")\n",
    "joint_mark_intensity\n"
   ]
  },
  {
   "cell_type": "code",
   "execution_count": 3,
   "metadata": {},
   "outputs": [],
   "source": [
    "spike_ind = [1, 5, 5, 6]\n"
   ]
  },
  {
   "cell_type": "code",
   "execution_count": 4,
   "metadata": {},
   "outputs": [
    {
     "data": {
      "text/plain": [
       "array([[0., 0., 0., ..., 0., 0., 0.],\n",
       "       [1., 1., 1., ..., 1., 1., 1.],\n",
       "       [0., 0., 0., ..., 0., 0., 0.],\n",
       "       ...,\n",
       "       [0., 0., 0., ..., 0., 0., 0.],\n",
       "       [0., 0., 0., ..., 0., 0., 0.],\n",
       "       [0., 0., 0., ..., 0., 0., 0.]])"
      ]
     },
     "execution_count": 4,
     "metadata": {},
     "output_type": "execute_result"
    }
   ],
   "source": [
    "true_log_likelihood = np.zeros((n_time, n_position_bins))\n",
    "true_log_likelihood[1] = 1\n",
    "true_log_likelihood[5] = 5\n",
    "true_log_likelihood[6] = 4\n",
    "true_log_likelihood\n"
   ]
  },
  {
   "cell_type": "markdown",
   "metadata": {},
   "source": [
    "### Option 1 - iterate over position bins, use bin count and stack"
   ]
  },
  {
   "cell_type": "code",
   "execution_count": 5,
   "metadata": {},
   "outputs": [],
   "source": [
    "log_likelihood += np.stack(\n",
    "    [\n",
    "        np.bincount(spike_ind, weights=jmi, minlength=log_likelihood.shape[0])\n",
    "        for jmi in joint_mark_intensity.T\n",
    "    ],\n",
    "    axis=1,\n",
    ")\n"
   ]
  },
  {
   "cell_type": "code",
   "execution_count": 6,
   "metadata": {},
   "outputs": [
    {
     "name": "stdout",
     "output_type": "stream",
     "text": [
      "9.58 ms ± 263 µs per loop (mean ± std. dev. of 7 runs, 100 loops each)\n"
     ]
    }
   ],
   "source": [
    "%%timeit\n",
    "\n",
    "np.stack([np.bincount(spike_ind, weights=jmi, minlength=log_likelihood.shape[0]) for jmi in joint_mark_intensity.T], axis=1)"
   ]
  },
  {
   "cell_type": "code",
   "execution_count": 7,
   "metadata": {},
   "outputs": [],
   "source": [
    "assert np.allclose(log_likelihood, true_log_likelihood)\n"
   ]
  },
  {
   "cell_type": "markdown",
   "metadata": {},
   "source": [
    "### Option 2 - use magical csr matrix incantation"
   ]
  },
  {
   "cell_type": "code",
   "execution_count": 8,
   "metadata": {},
   "outputs": [],
   "source": [
    "log_likelihood = np.zeros((n_time, n_position_bins))\n"
   ]
  },
  {
   "cell_type": "code",
   "execution_count": 9,
   "metadata": {},
   "outputs": [],
   "source": [
    "from scipy.sparse import csr_matrix\n",
    "\n",
    "# https://stackoverflow.com/questions/5205345/using-numpy-bincount-with-array-weights\n",
    "\n",
    "log_likelihood[: np.max(spike_ind) + 1] += (\n",
    "    csr_matrix((np.ones((n_spikes,)), (spike_ind, np.arange(n_spikes))))\n",
    "    * joint_mark_intensity\n",
    ")\n"
   ]
  },
  {
   "cell_type": "code",
   "execution_count": 10,
   "metadata": {},
   "outputs": [],
   "source": [
    "%%timeit\n",
    "\n",
    "csr_matrix((np.ones((n_spikes,)), (spike_ind, np.arange(n_spikes)))) * joint_mark_intensity"
   ]
  },
  {
   "cell_type": "code",
   "execution_count": null,
   "metadata": {},
   "outputs": [],
   "source": [
    "assert np.allclose(log_likelihood, true_log_likelihood)\n"
   ]
  },
  {
   "cell_type": "code",
   "execution_count": null,
   "metadata": {},
   "outputs": [],
   "source": []
  }
 ],
 "metadata": {
  "kernelspec": {
   "display_name": "Python 3.8.13 ('replay_trajectory_classification')",
   "language": "python",
   "name": "python3"
  },
  "language_info": {
   "codemirror_mode": {
    "name": "ipython",
    "version": 3
   },
   "file_extension": ".py",
   "mimetype": "text/x-python",
   "name": "python",
   "nbconvert_exporter": "python",
   "pygments_lexer": "ipython3",
   "version": "3.8.13"
  },
  "orig_nbformat": 4,
  "vscode": {
   "interpreter": {
    "hash": "29296f1ae745f19de731dac46bfa7a0c1b67f30bec4810cf8b1641fd77111f9f"
   }
  }
 },
 "nbformat": 4,
 "nbformat_minor": 2
}
